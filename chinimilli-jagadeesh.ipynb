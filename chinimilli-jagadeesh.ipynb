{
 "cells": [
  {
   "cell_type": "code",
   "execution_count": 1,
   "id": "6510fb4d",
   "metadata": {
    "_cell_guid": "b1076dfc-b9ad-4769-8c92-a6c4dae69d19",
    "_uuid": "8f2839f25d086af736a60e9eeb907d3b93b6e0e5",
    "execution": {
     "iopub.execute_input": "2021-10-27T18:23:51.021899Z",
     "iopub.status.busy": "2021-10-27T18:23:51.020781Z",
     "iopub.status.idle": "2021-10-27T18:23:52.422811Z",
     "shell.execute_reply": "2021-10-27T18:23:52.423256Z",
     "shell.execute_reply.started": "2021-10-27T17:19:23.711257Z"
    },
    "papermill": {
     "duration": 1.437446,
     "end_time": "2021-10-27T18:23:52.423541",
     "exception": false,
     "start_time": "2021-10-27T18:23:50.986095",
     "status": "completed"
    },
    "tags": []
   },
   "outputs": [
    {
     "data": {
      "text/html": [
       "<div>\n",
       "<style scoped>\n",
       "    .dataframe tbody tr th:only-of-type {\n",
       "        vertical-align: middle;\n",
       "    }\n",
       "\n",
       "    .dataframe tbody tr th {\n",
       "        vertical-align: top;\n",
       "    }\n",
       "\n",
       "    .dataframe thead th {\n",
       "        text-align: right;\n",
       "    }\n",
       "</style>\n",
       "<table border=\"1\" class=\"dataframe\">\n",
       "  <thead>\n",
       "    <tr style=\"text-align: right;\">\n",
       "      <th></th>\n",
       "      <th>PassengerId</th>\n",
       "      <th>Survived</th>\n",
       "      <th>Pclass</th>\n",
       "      <th>Name</th>\n",
       "      <th>Sex</th>\n",
       "      <th>Age</th>\n",
       "      <th>SibSp</th>\n",
       "      <th>Parch</th>\n",
       "      <th>Ticket</th>\n",
       "      <th>Fare</th>\n",
       "      <th>Cabin</th>\n",
       "      <th>Embarked</th>\n",
       "    </tr>\n",
       "  </thead>\n",
       "  <tbody>\n",
       "    <tr>\n",
       "      <th>0</th>\n",
       "      <td>1</td>\n",
       "      <td>0</td>\n",
       "      <td>3</td>\n",
       "      <td>Braund, Mr. Owen Harris</td>\n",
       "      <td>male</td>\n",
       "      <td>22.0</td>\n",
       "      <td>1</td>\n",
       "      <td>0</td>\n",
       "      <td>A/5 21171</td>\n",
       "      <td>7.2500</td>\n",
       "      <td>NaN</td>\n",
       "      <td>S</td>\n",
       "    </tr>\n",
       "    <tr>\n",
       "      <th>1</th>\n",
       "      <td>2</td>\n",
       "      <td>1</td>\n",
       "      <td>1</td>\n",
       "      <td>Cumings, Mrs. John Bradley (Florence Briggs Th...</td>\n",
       "      <td>female</td>\n",
       "      <td>38.0</td>\n",
       "      <td>1</td>\n",
       "      <td>0</td>\n",
       "      <td>PC 17599</td>\n",
       "      <td>71.2833</td>\n",
       "      <td>C85</td>\n",
       "      <td>C</td>\n",
       "    </tr>\n",
       "    <tr>\n",
       "      <th>2</th>\n",
       "      <td>3</td>\n",
       "      <td>1</td>\n",
       "      <td>3</td>\n",
       "      <td>Heikkinen, Miss. Laina</td>\n",
       "      <td>female</td>\n",
       "      <td>26.0</td>\n",
       "      <td>0</td>\n",
       "      <td>0</td>\n",
       "      <td>STON/O2. 3101282</td>\n",
       "      <td>7.9250</td>\n",
       "      <td>NaN</td>\n",
       "      <td>S</td>\n",
       "    </tr>\n",
       "    <tr>\n",
       "      <th>3</th>\n",
       "      <td>4</td>\n",
       "      <td>1</td>\n",
       "      <td>1</td>\n",
       "      <td>Futrelle, Mrs. Jacques Heath (Lily May Peel)</td>\n",
       "      <td>female</td>\n",
       "      <td>35.0</td>\n",
       "      <td>1</td>\n",
       "      <td>0</td>\n",
       "      <td>113803</td>\n",
       "      <td>53.1000</td>\n",
       "      <td>C123</td>\n",
       "      <td>S</td>\n",
       "    </tr>\n",
       "    <tr>\n",
       "      <th>4</th>\n",
       "      <td>5</td>\n",
       "      <td>0</td>\n",
       "      <td>3</td>\n",
       "      <td>Allen, Mr. William Henry</td>\n",
       "      <td>male</td>\n",
       "      <td>35.0</td>\n",
       "      <td>0</td>\n",
       "      <td>0</td>\n",
       "      <td>373450</td>\n",
       "      <td>8.0500</td>\n",
       "      <td>NaN</td>\n",
       "      <td>S</td>\n",
       "    </tr>\n",
       "    <tr>\n",
       "      <th>5</th>\n",
       "      <td>6</td>\n",
       "      <td>0</td>\n",
       "      <td>3</td>\n",
       "      <td>Moran, Mr. James</td>\n",
       "      <td>male</td>\n",
       "      <td>NaN</td>\n",
       "      <td>0</td>\n",
       "      <td>0</td>\n",
       "      <td>330877</td>\n",
       "      <td>8.4583</td>\n",
       "      <td>NaN</td>\n",
       "      <td>Q</td>\n",
       "    </tr>\n",
       "    <tr>\n",
       "      <th>6</th>\n",
       "      <td>7</td>\n",
       "      <td>0</td>\n",
       "      <td>1</td>\n",
       "      <td>McCarthy, Mr. Timothy J</td>\n",
       "      <td>male</td>\n",
       "      <td>54.0</td>\n",
       "      <td>0</td>\n",
       "      <td>0</td>\n",
       "      <td>17463</td>\n",
       "      <td>51.8625</td>\n",
       "      <td>E46</td>\n",
       "      <td>S</td>\n",
       "    </tr>\n",
       "    <tr>\n",
       "      <th>7</th>\n",
       "      <td>8</td>\n",
       "      <td>0</td>\n",
       "      <td>3</td>\n",
       "      <td>Palsson, Master. Gosta Leonard</td>\n",
       "      <td>male</td>\n",
       "      <td>2.0</td>\n",
       "      <td>3</td>\n",
       "      <td>1</td>\n",
       "      <td>349909</td>\n",
       "      <td>21.0750</td>\n",
       "      <td>NaN</td>\n",
       "      <td>S</td>\n",
       "    </tr>\n",
       "    <tr>\n",
       "      <th>8</th>\n",
       "      <td>9</td>\n",
       "      <td>1</td>\n",
       "      <td>3</td>\n",
       "      <td>Johnson, Mrs. Oscar W (Elisabeth Vilhelmina Berg)</td>\n",
       "      <td>female</td>\n",
       "      <td>27.0</td>\n",
       "      <td>0</td>\n",
       "      <td>2</td>\n",
       "      <td>347742</td>\n",
       "      <td>11.1333</td>\n",
       "      <td>NaN</td>\n",
       "      <td>S</td>\n",
       "    </tr>\n",
       "    <tr>\n",
       "      <th>9</th>\n",
       "      <td>10</td>\n",
       "      <td>1</td>\n",
       "      <td>2</td>\n",
       "      <td>Nasser, Mrs. Nicholas (Adele Achem)</td>\n",
       "      <td>female</td>\n",
       "      <td>14.0</td>\n",
       "      <td>1</td>\n",
       "      <td>0</td>\n",
       "      <td>237736</td>\n",
       "      <td>30.0708</td>\n",
       "      <td>NaN</td>\n",
       "      <td>C</td>\n",
       "    </tr>\n",
       "  </tbody>\n",
       "</table>\n",
       "</div>"
      ],
      "text/plain": [
       "   PassengerId  Survived  Pclass  \\\n",
       "0            1         0       3   \n",
       "1            2         1       1   \n",
       "2            3         1       3   \n",
       "3            4         1       1   \n",
       "4            5         0       3   \n",
       "5            6         0       3   \n",
       "6            7         0       1   \n",
       "7            8         0       3   \n",
       "8            9         1       3   \n",
       "9           10         1       2   \n",
       "\n",
       "                                                Name     Sex   Age  SibSp  \\\n",
       "0                            Braund, Mr. Owen Harris    male  22.0      1   \n",
       "1  Cumings, Mrs. John Bradley (Florence Briggs Th...  female  38.0      1   \n",
       "2                             Heikkinen, Miss. Laina  female  26.0      0   \n",
       "3       Futrelle, Mrs. Jacques Heath (Lily May Peel)  female  35.0      1   \n",
       "4                           Allen, Mr. William Henry    male  35.0      0   \n",
       "5                                   Moran, Mr. James    male   NaN      0   \n",
       "6                            McCarthy, Mr. Timothy J    male  54.0      0   \n",
       "7                     Palsson, Master. Gosta Leonard    male   2.0      3   \n",
       "8  Johnson, Mrs. Oscar W (Elisabeth Vilhelmina Berg)  female  27.0      0   \n",
       "9                Nasser, Mrs. Nicholas (Adele Achem)  female  14.0      1   \n",
       "\n",
       "   Parch            Ticket     Fare Cabin Embarked  \n",
       "0      0         A/5 21171   7.2500   NaN        S  \n",
       "1      0          PC 17599  71.2833   C85        C  \n",
       "2      0  STON/O2. 3101282   7.9250   NaN        S  \n",
       "3      0            113803  53.1000  C123        S  \n",
       "4      0            373450   8.0500   NaN        S  \n",
       "5      0            330877   8.4583   NaN        Q  \n",
       "6      0             17463  51.8625   E46        S  \n",
       "7      1            349909  21.0750   NaN        S  \n",
       "8      2            347742  11.1333   NaN        S  \n",
       "9      0            237736  30.0708   NaN        C  "
      ]
     },
     "execution_count": 1,
     "metadata": {},
     "output_type": "execute_result"
    }
   ],
   "source": [
    "import numpy as np # linear algebra\n",
    "import pandas as pd # data processing, CSV file I/O (e.g. pd.read_csv)\n",
    "\n",
    "# Importing Classifier Modules\n",
    "from sklearn.ensemble import RandomForestClassifier\n",
    "\n",
    "#For confusion_matrix\n",
    "from sklearn.metrics import confusion_matrix\n",
    "import itertools\n",
    "import matplotlib.pyplot as plt\n",
    "import seaborn as sns\n",
    "\n",
    "#Firstly, we shoud study input data\n",
    "\n",
    "#Loading data \n",
    "train_data = pd.read_csv('/kaggle/input/titanic/train.csv')\n",
    "test_data = pd.read_csv('/kaggle/input/titanic/test.csv')\n",
    "\n",
    "#Look what data we have\n",
    "train_data.head(10)"
   ]
  },
  {
   "cell_type": "code",
   "execution_count": 2,
   "id": "4aa7a253",
   "metadata": {
    "execution": {
     "iopub.execute_input": "2021-10-27T18:23:52.495164Z",
     "iopub.status.busy": "2021-10-27T18:23:52.494333Z",
     "iopub.status.idle": "2021-10-27T18:23:52.497368Z",
     "shell.execute_reply": "2021-10-27T18:23:52.497836Z",
     "shell.execute_reply.started": "2021-10-27T17:19:25.032912Z"
    },
    "papermill": {
     "duration": 0.039803,
     "end_time": "2021-10-27T18:23:52.497990",
     "exception": false,
     "start_time": "2021-10-27T18:23:52.458187",
     "status": "completed"
    },
    "tags": []
   },
   "outputs": [
    {
     "data": {
      "text/plain": [
       "(418, 11)"
      ]
     },
     "execution_count": 2,
     "metadata": {},
     "output_type": "execute_result"
    }
   ],
   "source": [
    "test_data.shape #number of rows and columns in the test set"
   ]
  },
  {
   "cell_type": "code",
   "execution_count": 3,
   "id": "9f828335",
   "metadata": {
    "execution": {
     "iopub.execute_input": "2021-10-27T18:23:52.564277Z",
     "iopub.status.busy": "2021-10-27T18:23:52.563650Z",
     "iopub.status.idle": "2021-10-27T18:23:52.567897Z",
     "shell.execute_reply": "2021-10-27T18:23:52.568460Z",
     "shell.execute_reply.started": "2021-10-27T17:19:25.040926Z"
    },
    "papermill": {
     "duration": 0.039138,
     "end_time": "2021-10-27T18:23:52.568624",
     "exception": false,
     "start_time": "2021-10-27T18:23:52.529486",
     "status": "completed"
    },
    "tags": []
   },
   "outputs": [
    {
     "data": {
      "text/plain": [
       "(891, 12)"
      ]
     },
     "execution_count": 3,
     "metadata": {},
     "output_type": "execute_result"
    }
   ],
   "source": [
    "train_data.shape #number of rows and columns in the train set"
   ]
  },
  {
   "cell_type": "code",
   "execution_count": 4,
   "id": "1683da85",
   "metadata": {
    "execution": {
     "iopub.execute_input": "2021-10-27T18:23:52.655978Z",
     "iopub.status.busy": "2021-10-27T18:23:52.655090Z",
     "iopub.status.idle": "2021-10-27T18:23:53.058900Z",
     "shell.execute_reply": "2021-10-27T18:23:53.058377Z",
     "shell.execute_reply.started": "2021-10-27T17:19:25.052591Z"
    },
    "papermill": {
     "duration": 0.454724,
     "end_time": "2021-10-27T18:23:53.059074",
     "exception": false,
     "start_time": "2021-10-27T18:23:52.604350",
     "status": "completed"
    },
    "tags": []
   },
   "outputs": [
    {
     "data": {
      "text/plain": [
       "Text(0.5, 1.0, 'Missing values in a dataset')"
      ]
     },
     "execution_count": 4,
     "metadata": {},
     "output_type": "execute_result"
    },
    {
     "data": {
      "image/png": "[encoded data removed]",
      "text/plain": [
       "<Figure size 432x288 with 1 Axes>"
      ]
     },
     "metadata": {
      "needs_background": "light"
     },
     "output_type": "display_data"
    }
   ],
   "source": [
    "#Define how many values are skipped\n",
    "data = pd.concat([train_data, test_data], ignore_index=True, sort = False)\n",
    "\n",
    "sns.heatmap(data.isnull(), cbar = False).set_title(\"Missing values in a dataset\")"
   ]
  },
  {
   "cell_type": "code",
   "execution_count": 5,
   "id": "95c126d8",
   "metadata": {
    "execution": {
     "iopub.execute_input": "2021-10-27T18:23:53.129870Z",
     "iopub.status.busy": "2021-10-27T18:23:53.128913Z",
     "iopub.status.idle": "2021-10-27T18:23:53.135456Z",
     "shell.execute_reply": "2021-10-27T18:23:53.134960Z",
     "shell.execute_reply.started": "2021-10-27T17:19:25.466415Z"
    },
    "papermill": {
     "duration": 0.043905,
     "end_time": "2021-10-27T18:23:53.135598",
     "exception": false,
     "start_time": "2021-10-27T18:23:53.091693",
     "status": "completed"
    },
    "tags": []
   },
   "outputs": [
    {
     "data": {
      "text/plain": [
       "PassengerId      0\n",
       "Survived         0\n",
       "Pclass           0\n",
       "Name             0\n",
       "Sex              0\n",
       "Age            177\n",
       "SibSp            0\n",
       "Parch            0\n",
       "Ticket           0\n",
       "Fare             0\n",
       "Cabin          687\n",
       "Embarked         2\n",
       "dtype: int64"
      ]
     },
     "execution_count": 5,
     "metadata": {},
     "output_type": "execute_result"
    }
   ],
   "source": [
    "train_data.isnull().sum()"
   ]
  },
  {
   "cell_type": "code",
   "execution_count": 6,
   "id": "dadee0c6",
   "metadata": {
    "execution": {
     "iopub.execute_input": "2021-10-27T18:23:53.204118Z",
     "iopub.status.busy": "2021-10-27T18:23:53.203458Z",
     "iopub.status.idle": "2021-10-27T18:23:53.214361Z",
     "shell.execute_reply": "2021-10-27T18:23:53.214859Z",
     "shell.execute_reply.started": "2021-10-27T17:19:25.47696Z"
    },
    "papermill": {
     "duration": 0.046505,
     "end_time": "2021-10-27T18:23:53.215054",
     "exception": false,
     "start_time": "2021-10-27T18:23:53.168549",
     "status": "completed"
    },
    "tags": []
   },
   "outputs": [
    {
     "data": {
      "text/plain": [
       "PassengerId    1309\n",
       "Survived          2\n",
       "Pclass            3\n",
       "Name           1307\n",
       "Sex               2\n",
       "Age              98\n",
       "SibSp             7\n",
       "Parch             8\n",
       "Ticket          929\n",
       "Fare            281\n",
       "Cabin           186\n",
       "Embarked          3\n",
       "dtype: int64"
      ]
     },
     "execution_count": 6,
     "metadata": {},
     "output_type": "execute_result"
    }
   ],
   "source": [
    "#Find out how many values of parameters we have in dataset\n",
    "data.nunique()"
   ]
  },
  {
   "cell_type": "code",
   "execution_count": 7,
   "id": "41966694",
   "metadata": {
    "execution": {
     "iopub.execute_input": "2021-10-27T18:23:53.342357Z",
     "iopub.status.busy": "2021-10-27T18:23:53.341730Z",
     "iopub.status.idle": "2021-10-27T18:23:53.351494Z",
     "shell.execute_reply": "2021-10-27T18:23:53.351939Z",
     "shell.execute_reply.started": "2021-10-27T17:19:25.497612Z"
    },
    "papermill": {
     "duration": 0.046619,
     "end_time": "2021-10-27T18:23:53.352150",
     "exception": false,
     "start_time": "2021-10-27T18:23:53.305531",
     "status": "completed"
    },
    "tags": []
   },
   "outputs": [
    {
     "name": "stdout",
     "output_type": "stream",
     "text": [
      "Survived: 342 (38.4%)\n",
      "Not Survived: 549 (61.6%)\n",
      "Total: 891\n"
     ]
    }
   ],
   "source": [
    "#Count how many people survived\n",
    "survived = train_data[train_data['Survived'] == 1]\n",
    "not_survived = train_data[train_data['Survived'] == 0]\n",
    "\n",
    "print (\"Survived: %i (%.1f%%)\"%(len(survived), float(len(survived))/len(train_data)*100.0))\n",
    "print (\"Not Survived: %i (%.1f%%)\"%(len(not_survived), float(len(not_survived))/len(train_data)*100.0))\n",
    "print (\"Total: %i\"%len(train_data))"
   ]
  },
  {
   "cell_type": "code",
   "execution_count": 8,
   "id": "0d5b7463",
   "metadata": {
    "execution": {
     "iopub.execute_input": "2021-10-27T18:23:53.429192Z",
     "iopub.status.busy": "2021-10-27T18:23:53.428435Z",
     "iopub.status.idle": "2021-10-27T18:23:53.431252Z",
     "shell.execute_reply": "2021-10-27T18:23:53.431689Z",
     "shell.execute_reply.started": "2021-10-27T17:19:25.511446Z"
    },
    "papermill": {
     "duration": 0.045863,
     "end_time": "2021-10-27T18:23:53.431847",
     "exception": false,
     "start_time": "2021-10-27T18:23:53.385984",
     "status": "completed"
    },
    "tags": []
   },
   "outputs": [
    {
     "data": {
      "text/plain": [
       "male      577\n",
       "female    314\n",
       "Name: Sex, dtype: int64"
      ]
     },
     "execution_count": 8,
     "metadata": {},
     "output_type": "execute_result"
    }
   ],
   "source": [
    "train_data.Sex.value_counts()"
   ]
  },
  {
   "cell_type": "code",
   "execution_count": 9,
   "id": "8d80c96a",
   "metadata": {
    "execution": {
     "iopub.execute_input": "2021-10-27T18:23:53.512322Z",
     "iopub.status.busy": "2021-10-27T18:23:53.511398Z",
     "iopub.status.idle": "2021-10-27T18:23:53.514874Z",
     "shell.execute_reply": "2021-10-27T18:23:53.515457Z",
     "shell.execute_reply.started": "2021-10-27T17:19:25.524173Z"
    },
    "papermill": {
     "duration": 0.050639,
     "end_time": "2021-10-27T18:23:53.515630",
     "exception": false,
     "start_time": "2021-10-27T18:23:53.464991",
     "status": "completed"
    },
    "tags": []
   },
   "outputs": [
    {
     "data": {
      "text/html": [
       "<div>\n",
       "<style scoped>\n",
       "    .dataframe tbody tr th:only-of-type {\n",
       "        vertical-align: middle;\n",
       "    }\n",
       "\n",
       "    .dataframe tbody tr th {\n",
       "        vertical-align: top;\n",
       "    }\n",
       "\n",
       "    .dataframe thead th {\n",
       "        text-align: right;\n",
       "    }\n",
       "</style>\n",
       "<table border=\"1\" class=\"dataframe\">\n",
       "  <thead>\n",
       "    <tr style=\"text-align: right;\">\n",
       "      <th></th>\n",
       "      <th>Sex</th>\n",
       "      <th>Survived</th>\n",
       "    </tr>\n",
       "  </thead>\n",
       "  <tbody>\n",
       "    <tr>\n",
       "      <th>0</th>\n",
       "      <td>female</td>\n",
       "      <td>0.742038</td>\n",
       "    </tr>\n",
       "    <tr>\n",
       "      <th>1</th>\n",
       "      <td>male</td>\n",
       "      <td>0.188908</td>\n",
       "    </tr>\n",
       "  </tbody>\n",
       "</table>\n",
       "</div>"
      ],
      "text/plain": [
       "      Sex  Survived\n",
       "0  female  0.742038\n",
       "1    male  0.188908"
      ]
     },
     "execution_count": 9,
     "metadata": {},
     "output_type": "execute_result"
    }
   ],
   "source": [
    "train_data[['Sex', 'Survived']].groupby(['Sex'], as_index=False).mean()\n",
    "#More women survived than men"
   ]
  },
  {
   "cell_type": "code",
   "execution_count": 10,
   "id": "dc617093",
   "metadata": {
    "execution": {
     "iopub.execute_input": "2021-10-27T18:23:53.588431Z",
     "iopub.status.busy": "2021-10-27T18:23:53.586280Z",
     "iopub.status.idle": "2021-10-27T18:23:53.596557Z",
     "shell.execute_reply": "2021-10-27T18:23:53.596990Z",
     "shell.execute_reply.started": "2021-10-27T17:19:25.544193Z"
    },
    "papermill": {
     "duration": 0.046889,
     "end_time": "2021-10-27T18:23:53.597183",
     "exception": false,
     "start_time": "2021-10-27T18:23:53.550294",
     "status": "completed"
    },
    "tags": []
   },
   "outputs": [
    {
     "data": {
      "text/plain": [
       "Sex     Survived\n",
       "female  1           233\n",
       "        0            81\n",
       "male    0           468\n",
       "        1           109\n",
       "Name: Survived, dtype: int64"
      ]
     },
     "execution_count": 10,
     "metadata": {},
     "output_type": "execute_result"
    }
   ],
   "source": [
    "train_data.groupby('Sex').Survived.value_counts()"
   ]
  },
  {
   "cell_type": "code",
   "execution_count": 11,
   "id": "378ca2c1",
   "metadata": {
    "execution": {
     "iopub.execute_input": "2021-10-27T18:23:53.667853Z",
     "iopub.status.busy": "2021-10-27T18:23:53.667224Z",
     "iopub.status.idle": "2021-10-27T18:23:53.874618Z",
     "shell.execute_reply": "2021-10-27T18:23:53.875211Z",
     "shell.execute_reply.started": "2021-10-27T17:19:25.55785Z"
    },
    "papermill": {
     "duration": 0.244431,
     "end_time": "2021-10-27T18:23:53.875412",
     "exception": false,
     "start_time": "2021-10-27T18:23:53.630981",
     "status": "completed"
    },
    "tags": []
   },
   "outputs": [
    {
     "data": {
      "text/plain": [
       "<AxesSubplot:xlabel='Survived', ylabel='count'>"
      ]
     },
     "execution_count": 11,
     "metadata": {},
     "output_type": "execute_result"
    },
    {
     "data": {
      "image/png": "[encoded data removed]",
      "text/plain": [
       "<Figure size 432x288 with 1 Axes>"
      ]
     },
     "metadata": {
      "needs_background": "light"
     },
     "output_type": "display_data"
    }
   ],
   "source": [
    "sns.countplot(x='Survived', hue='Sex', data=train_data) "
   ]
  },
  {
   "cell_type": "code",
   "execution_count": 12,
   "id": "23f95cc7",
   "metadata": {
    "execution": {
     "iopub.execute_input": "2021-10-27T18:23:53.953033Z",
     "iopub.status.busy": "2021-10-27T18:23:53.952358Z",
     "iopub.status.idle": "2021-10-27T18:23:53.960682Z",
     "shell.execute_reply": "2021-10-27T18:23:53.961240Z",
     "shell.execute_reply.started": "2021-10-27T17:19:25.763399Z"
    },
    "papermill": {
     "duration": 0.048389,
     "end_time": "2021-10-27T18:23:53.961412",
     "exception": false,
     "start_time": "2021-10-27T18:23:53.913023",
     "status": "completed"
    },
    "tags": []
   },
   "outputs": [
    {
     "data": {
      "text/plain": [
       "Pclass  Survived\n",
       "1       1           136\n",
       "        0            80\n",
       "2       0            97\n",
       "        1            87\n",
       "3       0           372\n",
       "        1           119\n",
       "Name: Survived, dtype: int64"
      ]
     },
     "execution_count": 12,
     "metadata": {},
     "output_type": "execute_result"
    }
   ],
   "source": [
    "#We have three values of class - 1,2,3\n",
    "train_data.groupby('Pclass').Survived.value_counts()"
   ]
  },
  {
   "cell_type": "code",
   "execution_count": 13,
   "id": "609e3985",
   "metadata": {
    "execution": {
     "iopub.execute_input": "2021-10-27T18:23:54.036428Z",
     "iopub.status.busy": "2021-10-27T18:23:54.035789Z",
     "iopub.status.idle": "2021-10-27T18:23:54.268664Z",
     "shell.execute_reply": "2021-10-27T18:23:54.267760Z",
     "shell.execute_reply.started": "2021-10-27T17:19:25.774897Z"
    },
    "papermill": {
     "duration": 0.27133,
     "end_time": "2021-10-27T18:23:54.268803",
     "exception": false,
     "start_time": "2021-10-27T18:23:53.997473",
     "status": "completed"
    },
    "tags": []
   },
   "outputs": [
    {
     "data": {
      "text/plain": [
       "Text(0.5, 1.0, 'The number of survivors in each class')"
      ]
     },
     "execution_count": 13,
     "metadata": {},
     "output_type": "execute_result"
    },
    {
     "data": {
      "image/png": "[encoded data removed]",
      "text/plain": [
       "<Figure size 432x288 with 1 Axes>"
      ]
     },
     "metadata": {
      "needs_background": "light"
     },
     "output_type": "display_data"
    }
   ],
   "source": [
    "sns.countplot(x='Survived', hue='Pclass', data=train_data).set_title(\"The number of survivors in each class\")\n",
    "#More people died in the third class"
   ]
  },
  {
   "cell_type": "code",
   "execution_count": 14,
   "id": "db7391e1",
   "metadata": {
    "execution": {
     "iopub.execute_input": "2021-10-27T18:23:54.352947Z",
     "iopub.status.busy": "2021-10-27T18:23:54.352316Z",
     "iopub.status.idle": "2021-10-27T18:23:54.369336Z",
     "shell.execute_reply": "2021-10-27T18:23:54.368724Z",
     "shell.execute_reply.started": "2021-10-27T17:19:26.009208Z"
    },
    "papermill": {
     "duration": 0.05882,
     "end_time": "2021-10-27T18:23:54.369475",
     "exception": false,
     "start_time": "2021-10-27T18:23:54.310655",
     "status": "completed"
    },
    "tags": []
   },
   "outputs": [
    {
     "data": {
      "text/html": [
       "<div>\n",
       "<style scoped>\n",
       "    .dataframe tbody tr th:only-of-type {\n",
       "        vertical-align: middle;\n",
       "    }\n",
       "\n",
       "    .dataframe tbody tr th {\n",
       "        vertical-align: top;\n",
       "    }\n",
       "\n",
       "    .dataframe thead th {\n",
       "        text-align: right;\n",
       "    }\n",
       "</style>\n",
       "<table border=\"1\" class=\"dataframe\">\n",
       "  <thead>\n",
       "    <tr style=\"text-align: right;\">\n",
       "      <th></th>\n",
       "      <th>Pclass</th>\n",
       "      <th>Survived</th>\n",
       "    </tr>\n",
       "  </thead>\n",
       "  <tbody>\n",
       "    <tr>\n",
       "      <th>0</th>\n",
       "      <td>1</td>\n",
       "      <td>0.629630</td>\n",
       "    </tr>\n",
       "    <tr>\n",
       "      <th>1</th>\n",
       "      <td>2</td>\n",
       "      <td>0.472826</td>\n",
       "    </tr>\n",
       "    <tr>\n",
       "      <th>2</th>\n",
       "      <td>3</td>\n",
       "      <td>0.242363</td>\n",
       "    </tr>\n",
       "  </tbody>\n",
       "</table>\n",
       "</div>"
      ],
      "text/plain": [
       "   Pclass  Survived\n",
       "0       1  0.629630\n",
       "1       2  0.472826\n",
       "2       3  0.242363"
      ]
     },
     "execution_count": 14,
     "metadata": {},
     "output_type": "execute_result"
    }
   ],
   "source": [
    "train_data[['Pclass', 'Survived']].groupby(['Pclass'], as_index=False).mean()\n",
    "train_data[['Pclass', 'Survived']].groupby(['Pclass'], as_index=False).mean()"
   ]
  },
  {
   "cell_type": "code",
   "execution_count": 15,
   "id": "f5e2d7f4",
   "metadata": {
    "execution": {
     "iopub.execute_input": "2021-10-27T18:23:54.453927Z",
     "iopub.status.busy": "2021-10-27T18:23:54.450387Z",
     "iopub.status.idle": "2021-10-27T18:23:54.470236Z",
     "shell.execute_reply": "2021-10-27T18:23:54.470940Z",
     "shell.execute_reply.started": "2021-10-27T17:19:26.027003Z"
    },
    "papermill": {
     "duration": 0.062526,
     "end_time": "2021-10-27T18:23:54.471196",
     "exception": false,
     "start_time": "2021-10-27T18:23:54.408670",
     "status": "completed"
    },
    "tags": []
   },
   "outputs": [
    {
     "name": "stdout",
     "output_type": "stream",
     "text": [
      "Sex     female  male\n",
      "Pclass              \n",
      "1           94   122\n",
      "2           76   108\n",
      "3          144   347\n"
     ]
    }
   ],
   "source": [
    "tab = pd.crosstab(train_data['Pclass'], train_data['Sex'])\n",
    "print (tab)"
   ]
  },
  {
   "cell_type": "code",
   "execution_count": 16,
   "id": "ea15d627",
   "metadata": {
    "execution": {
     "iopub.execute_input": "2021-10-27T18:23:54.555252Z",
     "iopub.status.busy": "2021-10-27T18:23:54.554655Z",
     "iopub.status.idle": "2021-10-27T18:23:54.781092Z",
     "shell.execute_reply": "2021-10-27T18:23:54.781773Z",
     "shell.execute_reply.started": "2021-10-27T17:19:26.04717Z"
    },
    "papermill": {
     "duration": 0.270029,
     "end_time": "2021-10-27T18:23:54.781947",
     "exception": false,
     "start_time": "2021-10-27T18:23:54.511918",
     "status": "completed"
    },
    "tags": []
   },
   "outputs": [
    {
     "data": {
      "text/plain": [
       "Text(0.5, 1.0, 'Sex ratio in each class')"
      ]
     },
     "execution_count": 16,
     "metadata": {},
     "output_type": "execute_result"
    },
    {
     "data": {
      "image/png": "[encoded data removed]",
      "text/plain": [
       "<Figure size 432x288 with 1 Axes>"
      ]
     },
     "metadata": {
      "needs_background": "light"
     },
     "output_type": "display_data"
    }
   ],
   "source": [
    "sns.countplot(x='Pclass', hue='Sex', data=train_data).set_title(\"Sex ratio in each class\")"
   ]
  },
  {
   "cell_type": "code",
   "execution_count": 17,
   "id": "c66cc4e9",
   "metadata": {
    "execution": {
     "iopub.execute_input": "2021-10-27T18:23:54.871557Z",
     "iopub.status.busy": "2021-10-27T18:23:54.870807Z",
     "iopub.status.idle": "2021-10-27T18:23:54.886288Z",
     "shell.execute_reply": "2021-10-27T18:23:54.886739Z",
     "shell.execute_reply.started": "2021-10-27T17:19:26.284407Z"
    },
    "papermill": {
     "duration": 0.061298,
     "end_time": "2021-10-27T18:23:54.886906",
     "exception": false,
     "start_time": "2021-10-27T18:23:54.825608",
     "status": "completed"
    },
    "tags": []
   },
   "outputs": [
    {
     "data": {
      "text/html": [
       "<div>\n",
       "<style scoped>\n",
       "    .dataframe tbody tr th:only-of-type {\n",
       "        vertical-align: middle;\n",
       "    }\n",
       "\n",
       "    .dataframe tbody tr th {\n",
       "        vertical-align: top;\n",
       "    }\n",
       "\n",
       "    .dataframe thead th {\n",
       "        text-align: right;\n",
       "    }\n",
       "</style>\n",
       "<table border=\"1\" class=\"dataframe\">\n",
       "  <thead>\n",
       "    <tr style=\"text-align: right;\">\n",
       "      <th></th>\n",
       "      <th>Sex</th>\n",
       "      <th>Pclass</th>\n",
       "      <th>Survived</th>\n",
       "    </tr>\n",
       "  </thead>\n",
       "  <tbody>\n",
       "    <tr>\n",
       "      <th>0</th>\n",
       "      <td>female</td>\n",
       "      <td>1</td>\n",
       "      <td>0.968085</td>\n",
       "    </tr>\n",
       "    <tr>\n",
       "      <th>1</th>\n",
       "      <td>female</td>\n",
       "      <td>2</td>\n",
       "      <td>0.921053</td>\n",
       "    </tr>\n",
       "    <tr>\n",
       "      <th>2</th>\n",
       "      <td>female</td>\n",
       "      <td>3</td>\n",
       "      <td>0.500000</td>\n",
       "    </tr>\n",
       "    <tr>\n",
       "      <th>3</th>\n",
       "      <td>male</td>\n",
       "      <td>1</td>\n",
       "      <td>0.368852</td>\n",
       "    </tr>\n",
       "    <tr>\n",
       "      <th>4</th>\n",
       "      <td>male</td>\n",
       "      <td>2</td>\n",
       "      <td>0.157407</td>\n",
       "    </tr>\n",
       "    <tr>\n",
       "      <th>5</th>\n",
       "      <td>male</td>\n",
       "      <td>3</td>\n",
       "      <td>0.135447</td>\n",
       "    </tr>\n",
       "  </tbody>\n",
       "</table>\n",
       "</div>"
      ],
      "text/plain": [
       "      Sex  Pclass  Survived\n",
       "0  female       1  0.968085\n",
       "1  female       2  0.921053\n",
       "2  female       3  0.500000\n",
       "3    male       1  0.368852\n",
       "4    male       2  0.157407\n",
       "5    male       3  0.135447"
      ]
     },
     "execution_count": 17,
     "metadata": {},
     "output_type": "execute_result"
    }
   ],
   "source": [
    "train_data[['Sex', 'Survived','Pclass']].groupby(['Sex','Pclass'], as_index=False).mean()"
   ]
  },
  {
   "cell_type": "code",
   "execution_count": 18,
   "id": "ff4a9f45",
   "metadata": {
    "execution": {
     "iopub.execute_input": "2021-10-27T18:23:54.971897Z",
     "iopub.status.busy": "2021-10-27T18:23:54.971262Z",
     "iopub.status.idle": "2021-10-27T18:23:55.336998Z",
     "shell.execute_reply": "2021-10-27T18:23:55.337578Z",
     "shell.execute_reply.started": "2021-10-27T17:19:26.3058Z"
    },
    "papermill": {
     "duration": 0.411403,
     "end_time": "2021-10-27T18:23:55.337785",
     "exception": false,
     "start_time": "2021-10-27T18:23:54.926382",
     "status": "completed"
    },
    "tags": []
   },
   "outputs": [
    {
     "data": {
      "text/plain": [
       "Text(0.5, 1.0, 'Female survived in class')"
      ]
     },
     "execution_count": 18,
     "metadata": {},
     "output_type": "execute_result"
    },
    {
     "data": {
      "image/png": "[encoded data removed]",
      "text/plain": [
       "<Figure size 720x360 with 2 Axes>"
      ]
     },
     "metadata": {
      "needs_background": "light"
     },
     "output_type": "display_data"
    }
   ],
   "source": [
    "male = train_data[(train_data['Sex']==\"male\")]\n",
    "female = train_data[(train_data['Sex']==\"female\")]\n",
    "\n",
    "plt.figure(figsize=[10,5])\n",
    "plt.subplot(121)\n",
    "\n",
    "sns.countplot(x='Survived', hue='Pclass', data=male).set_title(\"Male survived in class\")\n",
    "plt.subplot(122)\n",
    "\n",
    "sns.countplot(x='Survived', hue='Pclass', data=female).set_title(\"Female survived in class\")"
   ]
  },
  {
   "cell_type": "code",
   "execution_count": 19,
   "id": "fccc5dfc",
   "metadata": {
    "execution": {
     "iopub.execute_input": "2021-10-27T18:23:55.419682Z",
     "iopub.status.busy": "2021-10-27T18:23:55.418912Z",
     "iopub.status.idle": "2021-10-27T18:23:55.426407Z",
     "shell.execute_reply": "2021-10-27T18:23:55.426914Z",
     "shell.execute_reply.started": "2021-10-27T17:19:26.703018Z"
    },
    "papermill": {
     "duration": 0.049569,
     "end_time": "2021-10-27T18:23:55.427108",
     "exception": false,
     "start_time": "2021-10-27T18:23:55.377539",
     "status": "completed"
    },
    "tags": []
   },
   "outputs": [
    {
     "data": {
      "text/plain": [
       "S    644\n",
       "C    168\n",
       "Q     77\n",
       "Name: Embarked, dtype: int64"
      ]
     },
     "execution_count": 19,
     "metadata": {},
     "output_type": "execute_result"
    }
   ],
   "source": [
    "#Most of the women were saved from 1 and 2 class\n",
    "train_data.Embarked.value_counts()\n",
    "#Most of the people settled in the first port"
   ]
  },
  {
   "cell_type": "code",
   "execution_count": 20,
   "id": "7880d879",
   "metadata": {
    "execution": {
     "iopub.execute_input": "2021-10-27T18:23:55.516111Z",
     "iopub.status.busy": "2021-10-27T18:23:55.515410Z",
     "iopub.status.idle": "2021-10-27T18:23:55.523574Z",
     "shell.execute_reply": "2021-10-27T18:23:55.524238Z",
     "shell.execute_reply.started": "2021-10-27T17:19:26.713179Z"
    },
    "papermill": {
     "duration": 0.055077,
     "end_time": "2021-10-27T18:23:55.524427",
     "exception": false,
     "start_time": "2021-10-27T18:23:55.469350",
     "status": "completed"
    },
    "tags": []
   },
   "outputs": [
    {
     "data": {
      "text/plain": [
       "Embarked  Survived\n",
       "C         1            93\n",
       "          0            75\n",
       "Q         0            47\n",
       "          1            30\n",
       "S         0           427\n",
       "          1           217\n",
       "Name: Survived, dtype: int64"
      ]
     },
     "execution_count": 20,
     "metadata": {},
     "output_type": "execute_result"
    }
   ],
   "source": [
    "#Embarked - Landing place\n",
    "#S - Southampton - first, \n",
    "#С - Cherbourg - second one,\n",
    "#Q - Queenstown - the last one.\n",
    "train_data.groupby('Embarked').Survived.value_counts()"
   ]
  },
  {
   "cell_type": "code",
   "execution_count": 21,
   "id": "cdce119a",
   "metadata": {
    "execution": {
     "iopub.execute_input": "2021-10-27T18:23:55.617235Z",
     "iopub.status.busy": "2021-10-27T18:23:55.616491Z",
     "iopub.status.idle": "2021-10-27T18:23:55.849397Z",
     "shell.execute_reply": "2021-10-27T18:23:55.848447Z",
     "shell.execute_reply.started": "2021-10-27T17:19:26.728417Z"
    },
    "papermill": {
     "duration": 0.279581,
     "end_time": "2021-10-27T18:23:55.849547",
     "exception": false,
     "start_time": "2021-10-27T18:23:55.569966",
     "status": "completed"
    },
    "tags": []
   },
   "outputs": [
    {
     "data": {
      "text/plain": [
       "Text(0.5, 1.0, 'The dependence of survival on the port')"
      ]
     },
     "execution_count": 21,
     "metadata": {},
     "output_type": "execute_result"
    },
    {
     "data": {
      "image/png": "[encoded data removed]",
      "text/plain": [
       "<Figure size 432x288 with 1 Axes>"
      ]
     },
     "metadata": {
      "needs_background": "light"
     },
     "output_type": "display_data"
    }
   ],
   "source": [
    "sns.countplot(x='Survived', hue='Embarked', data=train_data).set_title(\"The dependence of survival on the port\")\n",
    "#Most of those who landed in the first port died"
   ]
  },
  {
   "cell_type": "code",
   "execution_count": 22,
   "id": "8589c3b9",
   "metadata": {
    "execution": {
     "iopub.execute_input": "2021-10-27T18:23:55.935209Z",
     "iopub.status.busy": "2021-10-27T18:23:55.934240Z",
     "iopub.status.idle": "2021-10-27T18:23:57.870909Z",
     "shell.execute_reply": "2021-10-27T18:23:57.870282Z",
     "shell.execute_reply.started": "2021-10-27T17:19:26.971332Z"
    },
    "papermill": {
     "duration": 1.980062,
     "end_time": "2021-10-27T18:23:57.871078",
     "exception": false,
     "start_time": "2021-10-27T18:23:55.891016",
     "status": "completed"
    },
    "tags": []
   },
   "outputs": [
    {
     "name": "stderr",
     "output_type": "stream",
     "text": [
      "/opt/conda/lib/python3.7/site-packages/seaborn/distributions.py:2619: FutureWarning: `distplot` is a deprecated function and will be removed in a future version. Please adapt your code to use either `displot` (a figure-level function with similar flexibility) or `histplot` (an axes-level function for histograms).\n",
      "  warnings.warn(msg, FutureWarning)\n"
     ]
    },
    {
     "data": {
      "text/plain": [
       "<matplotlib.legend.Legend at 0x7f1d24182b50>"
      ]
     },
     "execution_count": 22,
     "metadata": {},
     "output_type": "execute_result"
    },
    {
     "data": {
      "image/png": "[encoded data removed]",
      "text/plain": [
       "<Figure size 1080x360 with 1 Axes>"
      ]
     },
     "metadata": {
      "needs_background": "light"
     },
     "output_type": "display_data"
    },
    {
     "data": {
      "image/png": "[encoded data removed]",
      "text/plain": [
       "<Figure size 1080x360 with 2 Axes>"
      ]
     },
     "metadata": {
      "needs_background": "light"
     },
     "output_type": "display_data"
    }
   ],
   "source": [
    "#The impact of age on survival\n",
    "total_survived = train_data[train_data['Survived']==1]\n",
    "total_not_survived = train_data[train_data['Survived']==0]\n",
    "male_survived = train_data[(train_data['Survived']==1) & (train_data['Sex']==\"male\")]\n",
    "female_survived = train_data[(train_data['Survived']==1) & (train_data['Sex']==\"female\")]\n",
    "male_not_survived = train_data[(train_data['Survived']==0) & (train_data['Sex']==\"male\")]\n",
    "female_not_survived = train_data[(train_data['Survived']==0) & (train_data['Sex']==\"female\")]\n",
    "\n",
    "\n",
    "plt.figure(figsize=[15,5])\n",
    "plt.subplot(111)\n",
    "sns.distplot(total_survived['Age'].dropna().values, bins=range(0, 81, 1), kde=False, color='blue')\n",
    "sns.distplot(total_not_survived['Age'].dropna().values, bins=range(0, 81, 1), kde=False, color='red', axlabel='Age')\n",
    "plt.legend([\"survived\", \"not survived\"])\n",
    "\n",
    "\n",
    "plt.figure(figsize=[15,5])\n",
    "\n",
    "plt.subplot(121)\n",
    "sns.distplot(female_survived['Age'].dropna().values, bins=range(0, 81, 1), kde=False, color='blue')\n",
    "sns.distplot(female_not_survived['Age'].dropna().values, bins=range(0, 81, 1), kde=False, color='red', axlabel='Female Age')\n",
    "plt.legend([\"female survived\", \"female not survived\"])\n",
    "\n",
    "plt.subplot(122)\n",
    "sns.distplot(male_survived['Age'].dropna().values, bins=range(0, 81, 1), kde=False, color='blue')\n",
    "sns.distplot(male_not_survived['Age'].dropna().values, bins=range(0, 81, 1), kde=False, color='red', axlabel='Male Age')\n",
    "plt.legend([\"male survived\", \"male not survived\"])"
   ]
  },
  {
   "cell_type": "code",
   "execution_count": 23,
   "id": "a3119d5c",
   "metadata": {
    "execution": {
     "iopub.execute_input": "2021-10-27T18:23:57.966890Z",
     "iopub.status.busy": "2021-10-27T18:23:57.966112Z",
     "iopub.status.idle": "2021-10-27T18:23:57.974264Z",
     "shell.execute_reply": "2021-10-27T18:23:57.974807Z",
     "shell.execute_reply.started": "2021-10-27T17:19:29.113574Z"
    },
    "papermill": {
     "duration": 0.05972,
     "end_time": "2021-10-27T18:23:57.974975",
     "exception": false,
     "start_time": "2021-10-27T18:23:57.915255",
     "status": "completed"
    },
    "tags": []
   },
   "outputs": [
    {
     "name": "stdout",
     "output_type": "stream",
     "text": [
      "   FamilySize  Survived\n",
      "0           1  0.303538\n",
      "1           2  0.552795\n",
      "2           3  0.578431\n",
      "3           4  0.724138\n",
      "4           5  0.200000\n",
      "5           6  0.136364\n",
      "6           7  0.333333\n",
      "7           8  0.000000\n",
      "8          11  0.000000\n"
     ]
    }
   ],
   "source": [
    "#Women mostly survived\n",
    "#Creating a new feature\n",
    "data=[train_data,test_data]\n",
    "for dataset in data:\n",
    "    dataset['FamilySize'] = dataset['SibSp'] +  dataset['Parch'] + 1\n",
    "\n",
    "print (train_data[['FamilySize', 'Survived']].groupby(['FamilySize'], as_index=False).mean())"
   ]
  },
  {
   "cell_type": "code",
   "execution_count": 24,
   "id": "1c11eafd",
   "metadata": {
    "execution": {
     "iopub.execute_input": "2021-10-27T18:23:58.066422Z",
     "iopub.status.busy": "2021-10-27T18:23:58.064230Z",
     "iopub.status.idle": "2021-10-27T18:23:58.355029Z",
     "shell.execute_reply": "2021-10-27T18:23:58.354573Z",
     "shell.execute_reply.started": "2021-10-27T17:19:29.127236Z"
    },
    "papermill": {
     "duration": 0.337232,
     "end_time": "2021-10-27T18:23:58.355189",
     "exception": false,
     "start_time": "2021-10-27T18:23:58.017957",
     "status": "completed"
    },
    "tags": []
   },
   "outputs": [
    {
     "data": {
      "text/plain": [
       "<AxesSubplot:xlabel='FamilySize', ylabel='count'>"
      ]
     },
     "execution_count": 24,
     "metadata": {},
     "output_type": "execute_result"
    },
    {
     "data": {
      "image/png": "[encoded data removed]",
      "text/plain": [
       "<Figure size 432x288 with 1 Axes>"
      ]
     },
     "metadata": {
      "needs_background": "light"
     },
     "output_type": "display_data"
    }
   ],
   "source": [
    "sns.countplot(x='FamilySize', hue='Survived', data=train_data)"
   ]
  },
  {
   "cell_type": "code",
   "execution_count": 25,
   "id": "7952ad7c",
   "metadata": {
    "execution": {
     "iopub.execute_input": "2021-10-27T18:23:58.447154Z",
     "iopub.status.busy": "2021-10-27T18:23:58.446496Z",
     "iopub.status.idle": "2021-10-27T18:23:58.448334Z",
     "shell.execute_reply": "2021-10-27T18:23:58.448756Z",
     "shell.execute_reply.started": "2021-10-27T17:19:29.437266Z"
    },
    "papermill": {
     "duration": 0.050337,
     "end_time": "2021-10-27T18:23:58.448928",
     "exception": false,
     "start_time": "2021-10-27T18:23:58.398591",
     "status": "completed"
    },
    "tags": []
   },
   "outputs": [],
   "source": [
    "#Data preparation\n",
    "data=([train_data,test_data])"
   ]
  },
  {
   "cell_type": "code",
   "execution_count": 26,
   "id": "4810dd77",
   "metadata": {
    "execution": {
     "iopub.execute_input": "2021-10-27T18:23:58.538825Z",
     "iopub.status.busy": "2021-10-27T18:23:58.538219Z",
     "iopub.status.idle": "2021-10-27T18:23:58.555859Z",
     "shell.execute_reply": "2021-10-27T18:23:58.556452Z",
     "shell.execute_reply.started": "2021-10-27T17:19:29.442563Z"
    },
    "papermill": {
     "duration": 0.064337,
     "end_time": "2021-10-27T18:23:58.556630",
     "exception": false,
     "start_time": "2021-10-27T18:23:58.492293",
     "status": "completed"
    },
    "tags": []
   },
   "outputs": [
    {
     "data": {
      "text/html": [
       "<div>\n",
       "<style scoped>\n",
       "    .dataframe tbody tr th:only-of-type {\n",
       "        vertical-align: middle;\n",
       "    }\n",
       "\n",
       "    .dataframe tbody tr th {\n",
       "        vertical-align: top;\n",
       "    }\n",
       "\n",
       "    .dataframe thead th {\n",
       "        text-align: right;\n",
       "    }\n",
       "</style>\n",
       "<table border=\"1\" class=\"dataframe\">\n",
       "  <thead>\n",
       "    <tr style=\"text-align: right;\">\n",
       "      <th></th>\n",
       "      <th>PassengerId</th>\n",
       "      <th>Survived</th>\n",
       "      <th>Pclass</th>\n",
       "      <th>Name</th>\n",
       "      <th>Sex</th>\n",
       "      <th>Age</th>\n",
       "      <th>SibSp</th>\n",
       "      <th>Parch</th>\n",
       "      <th>Ticket</th>\n",
       "      <th>Fare</th>\n",
       "      <th>Cabin</th>\n",
       "      <th>Embarked</th>\n",
       "      <th>FamilySize</th>\n",
       "      <th>Title</th>\n",
       "    </tr>\n",
       "  </thead>\n",
       "  <tbody>\n",
       "    <tr>\n",
       "      <th>0</th>\n",
       "      <td>1</td>\n",
       "      <td>0</td>\n",
       "      <td>3</td>\n",
       "      <td>Braund, Mr. Owen Harris</td>\n",
       "      <td>male</td>\n",
       "      <td>22.0</td>\n",
       "      <td>1</td>\n",
       "      <td>0</td>\n",
       "      <td>A/5 21171</td>\n",
       "      <td>7.2500</td>\n",
       "      <td>NaN</td>\n",
       "      <td>S</td>\n",
       "      <td>2</td>\n",
       "      <td>Mr</td>\n",
       "    </tr>\n",
       "    <tr>\n",
       "      <th>1</th>\n",
       "      <td>2</td>\n",
       "      <td>1</td>\n",
       "      <td>1</td>\n",
       "      <td>Cumings, Mrs. John Bradley (Florence Briggs Th...</td>\n",
       "      <td>female</td>\n",
       "      <td>38.0</td>\n",
       "      <td>1</td>\n",
       "      <td>0</td>\n",
       "      <td>PC 17599</td>\n",
       "      <td>71.2833</td>\n",
       "      <td>C85</td>\n",
       "      <td>C</td>\n",
       "      <td>2</td>\n",
       "      <td>Mrs</td>\n",
       "    </tr>\n",
       "  </tbody>\n",
       "</table>\n",
       "</div>"
      ],
      "text/plain": [
       "   PassengerId  Survived  Pclass  \\\n",
       "0            1         0       3   \n",
       "1            2         1       1   \n",
       "\n",
       "                                                Name     Sex   Age  SibSp  \\\n",
       "0                            Braund, Mr. Owen Harris    male  22.0      1   \n",
       "1  Cumings, Mrs. John Bradley (Florence Briggs Th...  female  38.0      1   \n",
       "\n",
       "   Parch     Ticket     Fare Cabin Embarked  FamilySize Title  \n",
       "0      0  A/5 21171   7.2500   NaN        S           2    Mr  \n",
       "1      0   PC 17599  71.2833   C85        C           2   Mrs  "
      ]
     },
     "execution_count": 26,
     "metadata": {},
     "output_type": "execute_result"
    }
   ],
   "source": [
    "for dataset in data:\n",
    "    dataset['Title'] = dataset.Name.str.extract(' ([A-Za-z]+)\\.')\n",
    "train_data.head(2)"
   ]
  },
  {
   "cell_type": "code",
   "execution_count": 27,
   "id": "25e5aebe",
   "metadata": {
    "execution": {
     "iopub.execute_input": "2021-10-27T18:23:58.652240Z",
     "iopub.status.busy": "2021-10-27T18:23:58.651552Z",
     "iopub.status.idle": "2021-10-27T18:23:58.658958Z",
     "shell.execute_reply": "2021-10-27T18:23:58.659471Z",
     "shell.execute_reply.started": "2021-10-27T17:19:29.469657Z"
    },
    "papermill": {
     "duration": 0.058151,
     "end_time": "2021-10-27T18:23:58.659633",
     "exception": false,
     "start_time": "2021-10-27T18:23:58.601482",
     "status": "completed"
    },
    "tags": []
   },
   "outputs": [
    {
     "data": {
      "text/plain": [
       "Title     Sex   \n",
       "Capt      male        1\n",
       "Col       male        2\n",
       "Countess  female      1\n",
       "Don       male        1\n",
       "Dr        male        6\n",
       "          female      1\n",
       "Jonkheer  male        1\n",
       "Lady      female      1\n",
       "Major     male        2\n",
       "Master    male       40\n",
       "Miss      female    182\n",
       "Mlle      female      2\n",
       "Mme       female      1\n",
       "Mr        male      517\n",
       "Mrs       female    125\n",
       "Ms        female      1\n",
       "Rev       male        6\n",
       "Sir       male        1\n",
       "Name: Sex, dtype: int64"
      ]
     },
     "execution_count": 27,
     "metadata": {},
     "output_type": "execute_result"
    }
   ],
   "source": [
    "train_data.groupby('Title').Sex.value_counts()\n"
   ]
  },
  {
   "cell_type": "code",
   "execution_count": 28,
   "id": "1b350106",
   "metadata": {
    "execution": {
     "iopub.execute_input": "2021-10-27T18:23:58.756728Z",
     "iopub.status.busy": "2021-10-27T18:23:58.752030Z",
     "iopub.status.idle": "2021-10-27T18:23:58.758649Z",
     "shell.execute_reply": "2021-10-27T18:23:58.759209Z",
     "shell.execute_reply.started": "2021-10-27T17:19:29.484618Z"
    },
    "papermill": {
     "duration": 0.054908,
     "end_time": "2021-10-27T18:23:58.759384",
     "exception": false,
     "start_time": "2021-10-27T18:23:58.704476",
     "status": "completed"
    },
    "tags": []
   },
   "outputs": [],
   "source": [
    "#Replacing gender with numeric values\n",
    "for dataset in data:\n",
    "    dataset['Sex'] = dataset['Sex'].map({'female': 0, 'male': 1})"
   ]
  },
  {
   "cell_type": "code",
   "execution_count": 29,
   "id": "05269415",
   "metadata": {
    "execution": {
     "iopub.execute_input": "2021-10-27T18:23:58.853026Z",
     "iopub.status.busy": "2021-10-27T18:23:58.852082Z",
     "iopub.status.idle": "2021-10-27T18:23:58.862850Z",
     "shell.execute_reply": "2021-10-27T18:23:58.863344Z",
     "shell.execute_reply.started": "2021-10-27T17:19:29.49511Z"
    },
    "papermill": {
     "duration": 0.058538,
     "end_time": "2021-10-27T18:23:58.863520",
     "exception": false,
     "start_time": "2021-10-27T18:23:58.804982",
     "status": "completed"
    },
    "tags": []
   },
   "outputs": [],
   "source": [
    "for dataset in data:\n",
    "    dataset['Title'] = dataset['Title'].replace(['Lady', 'Countess','Capt', 'Col','Don', 'Dr', 'Major', 'Rev', 'Sir', 'Jonkheer', 'Dona','Master'], 'Other')\n",
    "    dataset['Title'] = dataset['Title'].replace('Mlle', 'Miss')\n",
    "    dataset['Title'] = dataset['Title'].replace('Ms', 'Miss')\n",
    "    dataset['Title'] = dataset['Title'].replace('Mme', 'Mrs')"
   ]
  },
  {
   "cell_type": "code",
   "execution_count": 30,
   "id": "6af824b8",
   "metadata": {
    "execution": {
     "iopub.execute_input": "2021-10-27T18:23:58.955588Z",
     "iopub.status.busy": "2021-10-27T18:23:58.954616Z",
     "iopub.status.idle": "2021-10-27T18:23:58.961090Z",
     "shell.execute_reply": "2021-10-27T18:23:58.961579Z",
     "shell.execute_reply.started": "2021-10-27T17:19:29.515355Z"
    },
    "papermill": {
     "duration": 0.053843,
     "end_time": "2021-10-27T18:23:58.961763",
     "exception": false,
     "start_time": "2021-10-27T18:23:58.907920",
     "status": "completed"
    },
    "tags": []
   },
   "outputs": [],
   "source": [
    "#Replacing gender with numeric values\n",
    "for dataset in data:\n",
    "    dataset['Title'] = dataset['Title'].map({'Miss': 0, 'Mr': 1,'Mrs': 2, 'Other': 60})"
   ]
  },
  {
   "cell_type": "code",
   "execution_count": 31,
   "id": "234c0ea5",
   "metadata": {
    "execution": {
     "iopub.execute_input": "2021-10-27T18:23:59.055556Z",
     "iopub.status.busy": "2021-10-27T18:23:59.054599Z",
     "iopub.status.idle": "2021-10-27T18:23:59.068437Z",
     "shell.execute_reply": "2021-10-27T18:23:59.068981Z",
     "shell.execute_reply.started": "2021-10-27T17:19:29.525242Z"
    },
    "papermill": {
     "duration": 0.062292,
     "end_time": "2021-10-27T18:23:59.069165",
     "exception": false,
     "start_time": "2021-10-27T18:23:59.006873",
     "status": "completed"
    },
    "tags": []
   },
   "outputs": [
    {
     "data": {
      "text/html": [
       "<div>\n",
       "<style scoped>\n",
       "    .dataframe tbody tr th:only-of-type {\n",
       "        vertical-align: middle;\n",
       "    }\n",
       "\n",
       "    .dataframe tbody tr th {\n",
       "        vertical-align: top;\n",
       "    }\n",
       "\n",
       "    .dataframe thead th {\n",
       "        text-align: right;\n",
       "    }\n",
       "</style>\n",
       "<table border=\"1\" class=\"dataframe\">\n",
       "  <thead>\n",
       "    <tr style=\"text-align: right;\">\n",
       "      <th></th>\n",
       "      <th>PassengerId</th>\n",
       "      <th>Survived</th>\n",
       "      <th>Pclass</th>\n",
       "      <th>Name</th>\n",
       "      <th>Sex</th>\n",
       "      <th>Age</th>\n",
       "      <th>SibSp</th>\n",
       "      <th>Parch</th>\n",
       "      <th>Ticket</th>\n",
       "      <th>Fare</th>\n",
       "      <th>Cabin</th>\n",
       "      <th>Embarked</th>\n",
       "      <th>FamilySize</th>\n",
       "      <th>Title</th>\n",
       "    </tr>\n",
       "  </thead>\n",
       "  <tbody>\n",
       "    <tr>\n",
       "      <th>0</th>\n",
       "      <td>1</td>\n",
       "      <td>0</td>\n",
       "      <td>3</td>\n",
       "      <td>Braund, Mr. Owen Harris</td>\n",
       "      <td>1</td>\n",
       "      <td>22.0</td>\n",
       "      <td>1</td>\n",
       "      <td>0</td>\n",
       "      <td>A/5 21171</td>\n",
       "      <td>7.2500</td>\n",
       "      <td>NaN</td>\n",
       "      <td>S</td>\n",
       "      <td>2</td>\n",
       "      <td>1</td>\n",
       "    </tr>\n",
       "    <tr>\n",
       "      <th>1</th>\n",
       "      <td>2</td>\n",
       "      <td>1</td>\n",
       "      <td>1</td>\n",
       "      <td>Cumings, Mrs. John Bradley (Florence Briggs Th...</td>\n",
       "      <td>0</td>\n",
       "      <td>38.0</td>\n",
       "      <td>1</td>\n",
       "      <td>0</td>\n",
       "      <td>PC 17599</td>\n",
       "      <td>71.2833</td>\n",
       "      <td>C85</td>\n",
       "      <td>C</td>\n",
       "      <td>2</td>\n",
       "      <td>2</td>\n",
       "    </tr>\n",
       "    <tr>\n",
       "      <th>2</th>\n",
       "      <td>3</td>\n",
       "      <td>1</td>\n",
       "      <td>3</td>\n",
       "      <td>Heikkinen, Miss. Laina</td>\n",
       "      <td>0</td>\n",
       "      <td>26.0</td>\n",
       "      <td>0</td>\n",
       "      <td>0</td>\n",
       "      <td>STON/O2. 3101282</td>\n",
       "      <td>7.9250</td>\n",
       "      <td>NaN</td>\n",
       "      <td>S</td>\n",
       "      <td>1</td>\n",
       "      <td>0</td>\n",
       "    </tr>\n",
       "    <tr>\n",
       "      <th>3</th>\n",
       "      <td>4</td>\n",
       "      <td>1</td>\n",
       "      <td>1</td>\n",
       "      <td>Futrelle, Mrs. Jacques Heath (Lily May Peel)</td>\n",
       "      <td>0</td>\n",
       "      <td>35.0</td>\n",
       "      <td>1</td>\n",
       "      <td>0</td>\n",
       "      <td>113803</td>\n",
       "      <td>53.1000</td>\n",
       "      <td>C123</td>\n",
       "      <td>S</td>\n",
       "      <td>2</td>\n",
       "      <td>2</td>\n",
       "    </tr>\n",
       "  </tbody>\n",
       "</table>\n",
       "</div>"
      ],
      "text/plain": [
       "   PassengerId  Survived  Pclass  \\\n",
       "0            1         0       3   \n",
       "1            2         1       1   \n",
       "2            3         1       3   \n",
       "3            4         1       1   \n",
       "\n",
       "                                                Name  Sex   Age  SibSp  Parch  \\\n",
       "0                            Braund, Mr. Owen Harris    1  22.0      1      0   \n",
       "1  Cumings, Mrs. John Bradley (Florence Briggs Th...    0  38.0      1      0   \n",
       "2                             Heikkinen, Miss. Laina    0  26.0      0      0   \n",
       "3       Futrelle, Mrs. Jacques Heath (Lily May Peel)    0  35.0      1      0   \n",
       "\n",
       "             Ticket     Fare Cabin Embarked  FamilySize  Title  \n",
       "0         A/5 21171   7.2500   NaN        S           2      1  \n",
       "1          PC 17599  71.2833   C85        C           2      2  \n",
       "2  STON/O2. 3101282   7.9250   NaN        S           1      0  \n",
       "3            113803  53.1000  C123        S           2      2  "
      ]
     },
     "execution_count": 31,
     "metadata": {},
     "output_type": "execute_result"
    }
   ],
   "source": [
    "train_data.head(4)"
   ]
  },
  {
   "cell_type": "code",
   "execution_count": 32,
   "id": "a2f39954",
   "metadata": {
    "execution": {
     "iopub.execute_input": "2021-10-27T18:23:59.161976Z",
     "iopub.status.busy": "2021-10-27T18:23:59.161018Z",
     "iopub.status.idle": "2021-10-27T18:23:59.166287Z",
     "shell.execute_reply": "2021-10-27T18:23:59.166791Z",
     "shell.execute_reply.started": "2021-10-27T17:19:29.54642Z"
    },
    "papermill": {
     "duration": 0.05303,
     "end_time": "2021-10-27T18:23:59.166953",
     "exception": false,
     "start_time": "2021-10-27T18:23:59.113923",
     "status": "completed"
    },
    "tags": []
   },
   "outputs": [],
   "source": [
    "#Replace the missing values for the landing parameter with S, because most people boarded the ship in this port\n",
    "for dataset in data:\n",
    "    dataset['Embarked'] = dataset['Embarked'].fillna('S')"
   ]
  },
  {
   "cell_type": "code",
   "execution_count": 33,
   "id": "bb2c5198",
   "metadata": {
    "execution": {
     "iopub.execute_input": "2021-10-27T18:23:59.260319Z",
     "iopub.status.busy": "2021-10-27T18:23:59.259369Z",
     "iopub.status.idle": "2021-10-27T18:23:59.265774Z",
     "shell.execute_reply": "2021-10-27T18:23:59.266268Z",
     "shell.execute_reply.started": "2021-10-27T17:19:29.556738Z"
    },
    "papermill": {
     "duration": 0.054934,
     "end_time": "2021-10-27T18:23:59.266437",
     "exception": false,
     "start_time": "2021-10-27T18:23:59.211503",
     "status": "completed"
    },
    "tags": []
   },
   "outputs": [],
   "source": [
    "#Replace char to int\n",
    "for dataset in data:\n",
    "    dataset['Embarked'] = dataset['Embarked'].map({'S': 0, 'C': 1, 'Q': 2})"
   ]
  },
  {
   "cell_type": "code",
   "execution_count": 34,
   "id": "2671c48d",
   "metadata": {
    "execution": {
     "iopub.execute_input": "2021-10-27T18:23:59.358719Z",
     "iopub.status.busy": "2021-10-27T18:23:59.357807Z",
     "iopub.status.idle": "2021-10-27T18:23:59.371487Z",
     "shell.execute_reply": "2021-10-27T18:23:59.371926Z",
     "shell.execute_reply.started": "2021-10-27T17:19:29.567843Z"
    },
    "papermill": {
     "duration": 0.061148,
     "end_time": "2021-10-27T18:23:59.372103",
     "exception": false,
     "start_time": "2021-10-27T18:23:59.310955",
     "status": "completed"
    },
    "tags": []
   },
   "outputs": [
    {
     "data": {
      "text/html": [
       "<div>\n",
       "<style scoped>\n",
       "    .dataframe tbody tr th:only-of-type {\n",
       "        vertical-align: middle;\n",
       "    }\n",
       "\n",
       "    .dataframe tbody tr th {\n",
       "        vertical-align: top;\n",
       "    }\n",
       "\n",
       "    .dataframe thead th {\n",
       "        text-align: right;\n",
       "    }\n",
       "</style>\n",
       "<table border=\"1\" class=\"dataframe\">\n",
       "  <thead>\n",
       "    <tr style=\"text-align: right;\">\n",
       "      <th></th>\n",
       "      <th>PassengerId</th>\n",
       "      <th>Survived</th>\n",
       "      <th>Pclass</th>\n",
       "      <th>Name</th>\n",
       "      <th>Sex</th>\n",
       "      <th>Age</th>\n",
       "      <th>SibSp</th>\n",
       "      <th>Parch</th>\n",
       "      <th>Ticket</th>\n",
       "      <th>Fare</th>\n",
       "      <th>Cabin</th>\n",
       "      <th>Embarked</th>\n",
       "      <th>FamilySize</th>\n",
       "      <th>Title</th>\n",
       "    </tr>\n",
       "  </thead>\n",
       "  <tbody>\n",
       "    <tr>\n",
       "      <th>0</th>\n",
       "      <td>1</td>\n",
       "      <td>0</td>\n",
       "      <td>3</td>\n",
       "      <td>Braund, Mr. Owen Harris</td>\n",
       "      <td>1</td>\n",
       "      <td>22.0</td>\n",
       "      <td>1</td>\n",
       "      <td>0</td>\n",
       "      <td>A/5 21171</td>\n",
       "      <td>7.2500</td>\n",
       "      <td>NaN</td>\n",
       "      <td>0</td>\n",
       "      <td>2</td>\n",
       "      <td>1</td>\n",
       "    </tr>\n",
       "    <tr>\n",
       "      <th>1</th>\n",
       "      <td>2</td>\n",
       "      <td>1</td>\n",
       "      <td>1</td>\n",
       "      <td>Cumings, Mrs. John Bradley (Florence Briggs Th...</td>\n",
       "      <td>0</td>\n",
       "      <td>38.0</td>\n",
       "      <td>1</td>\n",
       "      <td>0</td>\n",
       "      <td>PC 17599</td>\n",
       "      <td>71.2833</td>\n",
       "      <td>C85</td>\n",
       "      <td>1</td>\n",
       "      <td>2</td>\n",
       "      <td>2</td>\n",
       "    </tr>\n",
       "    <tr>\n",
       "      <th>2</th>\n",
       "      <td>3</td>\n",
       "      <td>1</td>\n",
       "      <td>3</td>\n",
       "      <td>Heikkinen, Miss. Laina</td>\n",
       "      <td>0</td>\n",
       "      <td>26.0</td>\n",
       "      <td>0</td>\n",
       "      <td>0</td>\n",
       "      <td>STON/O2. 3101282</td>\n",
       "      <td>7.9250</td>\n",
       "      <td>NaN</td>\n",
       "      <td>0</td>\n",
       "      <td>1</td>\n",
       "      <td>0</td>\n",
       "    </tr>\n",
       "    <tr>\n",
       "      <th>3</th>\n",
       "      <td>4</td>\n",
       "      <td>1</td>\n",
       "      <td>1</td>\n",
       "      <td>Futrelle, Mrs. Jacques Heath (Lily May Peel)</td>\n",
       "      <td>0</td>\n",
       "      <td>35.0</td>\n",
       "      <td>1</td>\n",
       "      <td>0</td>\n",
       "      <td>113803</td>\n",
       "      <td>53.1000</td>\n",
       "      <td>C123</td>\n",
       "      <td>0</td>\n",
       "      <td>2</td>\n",
       "      <td>2</td>\n",
       "    </tr>\n",
       "  </tbody>\n",
       "</table>\n",
       "</div>"
      ],
      "text/plain": [
       "   PassengerId  Survived  Pclass  \\\n",
       "0            1         0       3   \n",
       "1            2         1       1   \n",
       "2            3         1       3   \n",
       "3            4         1       1   \n",
       "\n",
       "                                                Name  Sex   Age  SibSp  Parch  \\\n",
       "0                            Braund, Mr. Owen Harris    1  22.0      1      0   \n",
       "1  Cumings, Mrs. John Bradley (Florence Briggs Th...    0  38.0      1      0   \n",
       "2                             Heikkinen, Miss. Laina    0  26.0      0      0   \n",
       "3       Futrelle, Mrs. Jacques Heath (Lily May Peel)    0  35.0      1      0   \n",
       "\n",
       "             Ticket     Fare Cabin  Embarked  FamilySize  Title  \n",
       "0         A/5 21171   7.2500   NaN         0           2      1  \n",
       "1          PC 17599  71.2833   C85         1           2      2  \n",
       "2  STON/O2. 3101282   7.9250   NaN         0           1      0  \n",
       "3            113803  53.1000  C123         0           2      2  "
      ]
     },
     "execution_count": 34,
     "metadata": {},
     "output_type": "execute_result"
    }
   ],
   "source": [
    "train_data.head(4)"
   ]
  },
  {
   "cell_type": "code",
   "execution_count": 35,
   "id": "5746a8dd",
   "metadata": {
    "execution": {
     "iopub.execute_input": "2021-10-27T18:23:59.465896Z",
     "iopub.status.busy": "2021-10-27T18:23:59.464924Z",
     "iopub.status.idle": "2021-10-27T18:23:59.477578Z",
     "shell.execute_reply": "2021-10-27T18:23:59.478021Z",
     "shell.execute_reply.started": "2021-10-27T17:19:29.589346Z"
    },
    "papermill": {
     "duration": 0.061254,
     "end_time": "2021-10-27T18:23:59.478208",
     "exception": false,
     "start_time": "2021-10-27T18:23:59.416954",
     "status": "completed"
    },
    "tags": []
   },
   "outputs": [
    {
     "name": "stdout",
     "output_type": "stream",
     "text": [
      "   IsAlone  Survived\n",
      "0        0  0.505650\n",
      "1        1  0.303538\n"
     ]
    }
   ],
   "source": [
    "#Create a new value - FamilySize\n",
    "for dataset in data:\n",
    "    dataset['IsAlone'] = 0\n",
    "    dataset.loc[dataset['FamilySize'] == 1, 'IsAlone'] = 1\n",
    "    \n",
    "print (train_data[['IsAlone', 'Survived']].groupby(['IsAlone'], as_index=False).mean())"
   ]
  },
  {
   "cell_type": "code",
   "execution_count": 36,
   "id": "9320a671",
   "metadata": {
    "execution": {
     "iopub.execute_input": "2021-10-27T18:23:59.571900Z",
     "iopub.status.busy": "2021-10-27T18:23:59.571000Z",
     "iopub.status.idle": "2021-10-27T18:23:59.584409Z",
     "shell.execute_reply": "2021-10-27T18:23:59.584932Z",
     "shell.execute_reply.started": "2021-10-27T17:19:29.608486Z"
    },
    "papermill": {
     "duration": 0.061758,
     "end_time": "2021-10-27T18:23:59.585119",
     "exception": false,
     "start_time": "2021-10-27T18:23:59.523361",
     "status": "completed"
    },
    "tags": []
   },
   "outputs": [
    {
     "data": {
      "text/html": [
       "<div>\n",
       "<style scoped>\n",
       "    .dataframe tbody tr th:only-of-type {\n",
       "        vertical-align: middle;\n",
       "    }\n",
       "\n",
       "    .dataframe tbody tr th {\n",
       "        vertical-align: top;\n",
       "    }\n",
       "\n",
       "    .dataframe thead th {\n",
       "        text-align: right;\n",
       "    }\n",
       "</style>\n",
       "<table border=\"1\" class=\"dataframe\">\n",
       "  <thead>\n",
       "    <tr style=\"text-align: right;\">\n",
       "      <th></th>\n",
       "      <th>PassengerId</th>\n",
       "      <th>Survived</th>\n",
       "      <th>Pclass</th>\n",
       "      <th>Name</th>\n",
       "      <th>Sex</th>\n",
       "      <th>Age</th>\n",
       "      <th>SibSp</th>\n",
       "      <th>Parch</th>\n",
       "      <th>Ticket</th>\n",
       "      <th>Fare</th>\n",
       "      <th>Cabin</th>\n",
       "      <th>Embarked</th>\n",
       "      <th>FamilySize</th>\n",
       "      <th>Title</th>\n",
       "      <th>IsAlone</th>\n",
       "    </tr>\n",
       "  </thead>\n",
       "  <tbody>\n",
       "    <tr>\n",
       "      <th>0</th>\n",
       "      <td>1</td>\n",
       "      <td>0</td>\n",
       "      <td>3</td>\n",
       "      <td>Braund, Mr. Owen Harris</td>\n",
       "      <td>1</td>\n",
       "      <td>22.0</td>\n",
       "      <td>1</td>\n",
       "      <td>0</td>\n",
       "      <td>A/5 21171</td>\n",
       "      <td>7.2500</td>\n",
       "      <td>NaN</td>\n",
       "      <td>0</td>\n",
       "      <td>2</td>\n",
       "      <td>1</td>\n",
       "      <td>0</td>\n",
       "    </tr>\n",
       "    <tr>\n",
       "      <th>1</th>\n",
       "      <td>2</td>\n",
       "      <td>1</td>\n",
       "      <td>1</td>\n",
       "      <td>Cumings, Mrs. John Bradley (Florence Briggs Th...</td>\n",
       "      <td>0</td>\n",
       "      <td>38.0</td>\n",
       "      <td>1</td>\n",
       "      <td>0</td>\n",
       "      <td>PC 17599</td>\n",
       "      <td>71.2833</td>\n",
       "      <td>C85</td>\n",
       "      <td>1</td>\n",
       "      <td>2</td>\n",
       "      <td>2</td>\n",
       "      <td>0</td>\n",
       "    </tr>\n",
       "  </tbody>\n",
       "</table>\n",
       "</div>"
      ],
      "text/plain": [
       "   PassengerId  Survived  Pclass  \\\n",
       "0            1         0       3   \n",
       "1            2         1       1   \n",
       "\n",
       "                                                Name  Sex   Age  SibSp  Parch  \\\n",
       "0                            Braund, Mr. Owen Harris    1  22.0      1      0   \n",
       "1  Cumings, Mrs. John Bradley (Florence Briggs Th...    0  38.0      1      0   \n",
       "\n",
       "      Ticket     Fare Cabin  Embarked  FamilySize  Title  IsAlone  \n",
       "0  A/5 21171   7.2500   NaN         0           2      1        0  \n",
       "1   PC 17599  71.2833   C85         1           2      2        0  "
      ]
     },
     "execution_count": 36,
     "metadata": {},
     "output_type": "execute_result"
    }
   ],
   "source": [
    "train_data.head(2)"
   ]
  },
  {
   "cell_type": "code",
   "execution_count": 37,
   "id": "e99b44aa",
   "metadata": {
    "execution": {
     "iopub.execute_input": "2021-10-27T18:23:59.679399Z",
     "iopub.status.busy": "2021-10-27T18:23:59.678474Z",
     "iopub.status.idle": "2021-10-27T18:23:59.708947Z",
     "shell.execute_reply": "2021-10-27T18:23:59.708501Z",
     "shell.execute_reply.started": "2021-10-27T17:19:29.626655Z"
    },
    "papermill": {
     "duration": 0.078711,
     "end_time": "2021-10-27T18:23:59.709136",
     "exception": false,
     "start_time": "2021-10-27T18:23:59.630425",
     "status": "completed"
    },
    "tags": []
   },
   "outputs": [
    {
     "data": {
      "text/html": [
       "<div>\n",
       "<style scoped>\n",
       "    .dataframe tbody tr th:only-of-type {\n",
       "        vertical-align: middle;\n",
       "    }\n",
       "\n",
       "    .dataframe tbody tr th {\n",
       "        vertical-align: top;\n",
       "    }\n",
       "\n",
       "    .dataframe thead th {\n",
       "        text-align: right;\n",
       "    }\n",
       "</style>\n",
       "<table border=\"1\" class=\"dataframe\">\n",
       "  <thead>\n",
       "    <tr style=\"text-align: right;\">\n",
       "      <th></th>\n",
       "      <th>PassengerId</th>\n",
       "      <th>Survived</th>\n",
       "      <th>Pclass</th>\n",
       "      <th>Name</th>\n",
       "      <th>Sex</th>\n",
       "      <th>Age</th>\n",
       "      <th>SibSp</th>\n",
       "      <th>Parch</th>\n",
       "      <th>Ticket</th>\n",
       "      <th>Fare</th>\n",
       "      <th>...</th>\n",
       "      <th>Embarked</th>\n",
       "      <th>FamilySize</th>\n",
       "      <th>Title</th>\n",
       "      <th>IsAlone</th>\n",
       "      <th>S</th>\n",
       "      <th>C</th>\n",
       "      <th>Q</th>\n",
       "      <th>First_Class</th>\n",
       "      <th>Second_Class</th>\n",
       "      <th>Third_Class</th>\n",
       "    </tr>\n",
       "  </thead>\n",
       "  <tbody>\n",
       "    <tr>\n",
       "      <th>0</th>\n",
       "      <td>1</td>\n",
       "      <td>0</td>\n",
       "      <td>3</td>\n",
       "      <td>Braund, Mr. Owen Harris</td>\n",
       "      <td>1</td>\n",
       "      <td>22.0</td>\n",
       "      <td>1</td>\n",
       "      <td>0</td>\n",
       "      <td>A/5 21171</td>\n",
       "      <td>7.2500</td>\n",
       "      <td>...</td>\n",
       "      <td>0</td>\n",
       "      <td>2</td>\n",
       "      <td>1</td>\n",
       "      <td>0</td>\n",
       "      <td>1</td>\n",
       "      <td>0</td>\n",
       "      <td>0</td>\n",
       "      <td>0</td>\n",
       "      <td>0</td>\n",
       "      <td>1</td>\n",
       "    </tr>\n",
       "    <tr>\n",
       "      <th>1</th>\n",
       "      <td>2</td>\n",
       "      <td>1</td>\n",
       "      <td>1</td>\n",
       "      <td>Cumings, Mrs. John Bradley (Florence Briggs Th...</td>\n",
       "      <td>0</td>\n",
       "      <td>38.0</td>\n",
       "      <td>1</td>\n",
       "      <td>0</td>\n",
       "      <td>PC 17599</td>\n",
       "      <td>71.2833</td>\n",
       "      <td>...</td>\n",
       "      <td>1</td>\n",
       "      <td>2</td>\n",
       "      <td>2</td>\n",
       "      <td>0</td>\n",
       "      <td>0</td>\n",
       "      <td>1</td>\n",
       "      <td>0</td>\n",
       "      <td>1</td>\n",
       "      <td>0</td>\n",
       "      <td>0</td>\n",
       "    </tr>\n",
       "  </tbody>\n",
       "</table>\n",
       "<p>2 rows × 21 columns</p>\n",
       "</div>"
      ],
      "text/plain": [
       "   PassengerId  Survived  Pclass  \\\n",
       "0            1         0       3   \n",
       "1            2         1       1   \n",
       "\n",
       "                                                Name  Sex   Age  SibSp  Parch  \\\n",
       "0                            Braund, Mr. Owen Harris    1  22.0      1      0   \n",
       "1  Cumings, Mrs. John Bradley (Florence Briggs Th...    0  38.0      1      0   \n",
       "\n",
       "      Ticket     Fare  ... Embarked  FamilySize  Title  IsAlone  S  C  Q  \\\n",
       "0  A/5 21171   7.2500  ...        0           2      1        0  1  0  0   \n",
       "1   PC 17599  71.2833  ...        1           2      2        0  0  1  0   \n",
       "\n",
       "   First_Class  Second_Class  Third_Class  \n",
       "0            0             0            1  \n",
       "1            1             0            0  \n",
       "\n",
       "[2 rows x 21 columns]"
      ]
     },
     "execution_count": 37,
     "metadata": {},
     "output_type": "execute_result"
    }
   ],
   "source": [
    "for dataset in data:\n",
    "    dataset['S'] = 0\n",
    "    dataset['C'] = 0\n",
    "    dataset['Q'] = 0\n",
    "    dataset.loc[dataset['Embarked'] == 0, 'S'] = 1\n",
    "    dataset.loc[dataset['Embarked'] == 1, 'C'] = 1\n",
    "    dataset.loc[dataset['Embarked'] == 2, 'Q'] = 1\n",
    "    dataset['First_Class'] = 0\n",
    "    dataset['Second_Class'] = 0\n",
    "    dataset['Third_Class'] = 0\n",
    "    dataset.loc[dataset['Pclass'] == 1, 'First_Class'] = 1\n",
    "    dataset.loc[dataset['Pclass'] == 2, 'Second_Class'] = 1\n",
    "    dataset.loc[dataset['Pclass'] == 3, 'Third_Class'] = 1\n",
    "train_data.head(2)    "
   ]
  },
  {
   "cell_type": "code",
   "execution_count": 38,
   "id": "abc28052",
   "metadata": {
    "execution": {
     "iopub.execute_input": "2021-10-27T18:23:59.804250Z",
     "iopub.status.busy": "2021-10-27T18:23:59.803312Z",
     "iopub.status.idle": "2021-10-27T18:23:59.831995Z",
     "shell.execute_reply": "2021-10-27T18:23:59.832467Z",
     "shell.execute_reply.started": "2021-10-27T17:19:29.660862Z"
    },
    "papermill": {
     "duration": 0.077728,
     "end_time": "2021-10-27T18:23:59.832630",
     "exception": false,
     "start_time": "2021-10-27T18:23:59.754902",
     "status": "completed"
    },
    "tags": []
   },
   "outputs": [
    {
     "name": "stdout",
     "output_type": "stream",
     "text": [
      "         AgeBand  Survived\n",
      "0  (-0.08, 16.0]  0.504425\n",
      "1   (16.0, 32.0]  0.359268\n",
      "2   (32.0, 48.0]  0.371648\n",
      "3   (48.0, 64.0]  0.434783\n",
      "4   (64.0, 80.0]  0.090909\n"
     ]
    },
    {
     "name": "stderr",
     "output_type": "stream",
     "text": [
      "/opt/conda/lib/python3.7/site-packages/ipykernel_launcher.py:8: SettingWithCopyWarning: \n",
      "A value is trying to be set on a copy of a slice from a DataFrame\n",
      "\n",
      "See the caveats in the documentation: https://pandas.pydata.org/pandas-docs/stable/user_guide/indexing.html#returning-a-view-versus-a-copy\n",
      "  \n"
     ]
    }
   ],
   "source": [
    "#Adding new age values\n",
    "for dataset in data:\n",
    "    age_avg = dataset['Age'].mean() \n",
    "    age_std = dataset['Age'].std() \n",
    "    age_null_count = dataset['Age'].isnull().sum()\n",
    "    \n",
    "    age_null_random_list = np.random.randint(age_avg - age_std, age_avg + age_std, size=age_null_count)  \n",
    "    dataset['Age'][np.isnan(dataset['Age'])] = age_null_random_list\n",
    "    dataset['Age'] = dataset['Age'].astype(int)\n",
    "    \n",
    "train_data['AgeBand'] = pd.cut(train_data['Age'], 5) #Divide into equal groups of 20%\n",
    "\n",
    "print (train_data[['AgeBand', 'Survived']].groupby(['AgeBand'], as_index=False).mean())"
   ]
  },
  {
   "cell_type": "code",
   "execution_count": 39,
   "id": "eaeb7bc4",
   "metadata": {
    "execution": {
     "iopub.execute_input": "2021-10-27T18:23:59.945483Z",
     "iopub.status.busy": "2021-10-27T18:23:59.941727Z",
     "iopub.status.idle": "2021-10-27T18:23:59.957547Z",
     "shell.execute_reply": "2021-10-27T18:23:59.957976Z",
     "shell.execute_reply.started": "2021-10-27T17:19:29.688362Z"
    },
    "papermill": {
     "duration": 0.079464,
     "end_time": "2021-10-27T18:23:59.958169",
     "exception": false,
     "start_time": "2021-10-27T18:23:59.878705",
     "status": "completed"
    },
    "tags": []
   },
   "outputs": [
    {
     "data": {
      "text/html": [
       "<div>\n",
       "<style scoped>\n",
       "    .dataframe tbody tr th:only-of-type {\n",
       "        vertical-align: middle;\n",
       "    }\n",
       "\n",
       "    .dataframe tbody tr th {\n",
       "        vertical-align: top;\n",
       "    }\n",
       "\n",
       "    .dataframe thead th {\n",
       "        text-align: right;\n",
       "    }\n",
       "</style>\n",
       "<table border=\"1\" class=\"dataframe\">\n",
       "  <thead>\n",
       "    <tr style=\"text-align: right;\">\n",
       "      <th></th>\n",
       "      <th>PassengerId</th>\n",
       "      <th>Survived</th>\n",
       "      <th>Pclass</th>\n",
       "      <th>Name</th>\n",
       "      <th>Sex</th>\n",
       "      <th>Age</th>\n",
       "      <th>SibSp</th>\n",
       "      <th>Parch</th>\n",
       "      <th>Ticket</th>\n",
       "      <th>Fare</th>\n",
       "      <th>...</th>\n",
       "      <th>FamilySize</th>\n",
       "      <th>Title</th>\n",
       "      <th>IsAlone</th>\n",
       "      <th>S</th>\n",
       "      <th>C</th>\n",
       "      <th>Q</th>\n",
       "      <th>First_Class</th>\n",
       "      <th>Second_Class</th>\n",
       "      <th>Third_Class</th>\n",
       "      <th>AgeBand</th>\n",
       "    </tr>\n",
       "  </thead>\n",
       "  <tbody>\n",
       "    <tr>\n",
       "      <th>0</th>\n",
       "      <td>1</td>\n",
       "      <td>0</td>\n",
       "      <td>3</td>\n",
       "      <td>Braund, Mr. Owen Harris</td>\n",
       "      <td>1</td>\n",
       "      <td>1</td>\n",
       "      <td>1</td>\n",
       "      <td>0</td>\n",
       "      <td>A/5 21171</td>\n",
       "      <td>7.2500</td>\n",
       "      <td>...</td>\n",
       "      <td>2</td>\n",
       "      <td>1</td>\n",
       "      <td>0</td>\n",
       "      <td>1</td>\n",
       "      <td>0</td>\n",
       "      <td>0</td>\n",
       "      <td>0</td>\n",
       "      <td>0</td>\n",
       "      <td>1</td>\n",
       "      <td>(16.0, 32.0]</td>\n",
       "    </tr>\n",
       "    <tr>\n",
       "      <th>1</th>\n",
       "      <td>2</td>\n",
       "      <td>1</td>\n",
       "      <td>1</td>\n",
       "      <td>Cumings, Mrs. John Bradley (Florence Briggs Th...</td>\n",
       "      <td>0</td>\n",
       "      <td>2</td>\n",
       "      <td>1</td>\n",
       "      <td>0</td>\n",
       "      <td>PC 17599</td>\n",
       "      <td>71.2833</td>\n",
       "      <td>...</td>\n",
       "      <td>2</td>\n",
       "      <td>2</td>\n",
       "      <td>0</td>\n",
       "      <td>0</td>\n",
       "      <td>1</td>\n",
       "      <td>0</td>\n",
       "      <td>1</td>\n",
       "      <td>0</td>\n",
       "      <td>0</td>\n",
       "      <td>(32.0, 48.0]</td>\n",
       "    </tr>\n",
       "    <tr>\n",
       "      <th>2</th>\n",
       "      <td>3</td>\n",
       "      <td>1</td>\n",
       "      <td>3</td>\n",
       "      <td>Heikkinen, Miss. Laina</td>\n",
       "      <td>0</td>\n",
       "      <td>1</td>\n",
       "      <td>0</td>\n",
       "      <td>0</td>\n",
       "      <td>STON/O2. 3101282</td>\n",
       "      <td>7.9250</td>\n",
       "      <td>...</td>\n",
       "      <td>1</td>\n",
       "      <td>0</td>\n",
       "      <td>1</td>\n",
       "      <td>1</td>\n",
       "      <td>0</td>\n",
       "      <td>0</td>\n",
       "      <td>0</td>\n",
       "      <td>0</td>\n",
       "      <td>1</td>\n",
       "      <td>(16.0, 32.0]</td>\n",
       "    </tr>\n",
       "    <tr>\n",
       "      <th>3</th>\n",
       "      <td>4</td>\n",
       "      <td>1</td>\n",
       "      <td>1</td>\n",
       "      <td>Futrelle, Mrs. Jacques Heath (Lily May Peel)</td>\n",
       "      <td>0</td>\n",
       "      <td>2</td>\n",
       "      <td>1</td>\n",
       "      <td>0</td>\n",
       "      <td>113803</td>\n",
       "      <td>53.1000</td>\n",
       "      <td>...</td>\n",
       "      <td>2</td>\n",
       "      <td>2</td>\n",
       "      <td>0</td>\n",
       "      <td>1</td>\n",
       "      <td>0</td>\n",
       "      <td>0</td>\n",
       "      <td>1</td>\n",
       "      <td>0</td>\n",
       "      <td>0</td>\n",
       "      <td>(32.0, 48.0]</td>\n",
       "    </tr>\n",
       "    <tr>\n",
       "      <th>4</th>\n",
       "      <td>5</td>\n",
       "      <td>0</td>\n",
       "      <td>3</td>\n",
       "      <td>Allen, Mr. William Henry</td>\n",
       "      <td>1</td>\n",
       "      <td>2</td>\n",
       "      <td>0</td>\n",
       "      <td>0</td>\n",
       "      <td>373450</td>\n",
       "      <td>8.0500</td>\n",
       "      <td>...</td>\n",
       "      <td>1</td>\n",
       "      <td>1</td>\n",
       "      <td>1</td>\n",
       "      <td>1</td>\n",
       "      <td>0</td>\n",
       "      <td>0</td>\n",
       "      <td>0</td>\n",
       "      <td>0</td>\n",
       "      <td>1</td>\n",
       "      <td>(32.0, 48.0]</td>\n",
       "    </tr>\n",
       "  </tbody>\n",
       "</table>\n",
       "<p>5 rows × 22 columns</p>\n",
       "</div>"
      ],
      "text/plain": [
       "   PassengerId  Survived  Pclass  \\\n",
       "0            1         0       3   \n",
       "1            2         1       1   \n",
       "2            3         1       3   \n",
       "3            4         1       1   \n",
       "4            5         0       3   \n",
       "\n",
       "                                                Name  Sex  Age  SibSp  Parch  \\\n",
       "0                            Braund, Mr. Owen Harris    1    1      1      0   \n",
       "1  Cumings, Mrs. John Bradley (Florence Briggs Th...    0    2      1      0   \n",
       "2                             Heikkinen, Miss. Laina    0    1      0      0   \n",
       "3       Futrelle, Mrs. Jacques Heath (Lily May Peel)    0    2      1      0   \n",
       "4                           Allen, Mr. William Henry    1    2      0      0   \n",
       "\n",
       "             Ticket     Fare  ... FamilySize  Title  IsAlone  S  C  Q  \\\n",
       "0         A/5 21171   7.2500  ...          2      1        0  1  0  0   \n",
       "1          PC 17599  71.2833  ...          2      2        0  0  1  0   \n",
       "2  STON/O2. 3101282   7.9250  ...          1      0        1  1  0  0   \n",
       "3            113803  53.1000  ...          2      2        0  1  0  0   \n",
       "4            373450   8.0500  ...          1      1        1  1  0  0   \n",
       "\n",
       "   First_Class  Second_Class  Third_Class       AgeBand  \n",
       "0            0             0            1  (16.0, 32.0]  \n",
       "1            1             0            0  (32.0, 48.0]  \n",
       "2            0             0            1  (16.0, 32.0]  \n",
       "3            1             0            0  (32.0, 48.0]  \n",
       "4            0             0            1  (32.0, 48.0]  \n",
       "\n",
       "[5 rows x 22 columns]"
      ]
     },
     "execution_count": 39,
     "metadata": {},
     "output_type": "execute_result"
    }
   ],
   "source": [
    "#Replacing the age with the group\n",
    "for dataset in data:\n",
    "    dataset.loc[ dataset['Age'] <= 16, 'Age'] = 0\n",
    "    dataset.loc[(dataset['Age'] > 16) & (dataset['Age'] <= 32), 'Age'] = 1\n",
    "    dataset.loc[(dataset['Age'] > 32) & (dataset['Age'] <= 48), 'Age'] = 2\n",
    "    dataset.loc[(dataset['Age'] > 48) & (dataset['Age'] <= 64), 'Age'] = 3\n",
    "    dataset.loc[ dataset['Age'] > 64, 'Age'] = 4\n",
    "    \n",
    "train_data.head()"
   ]
  },
  {
   "cell_type": "code",
   "execution_count": 40,
   "id": "ccdf9bf9",
   "metadata": {
    "execution": {
     "iopub.execute_input": "2021-10-27T18:24:00.061297Z",
     "iopub.status.busy": "2021-10-27T18:24:00.060672Z",
     "iopub.status.idle": "2021-10-27T18:24:00.072919Z",
     "shell.execute_reply": "2021-10-27T18:24:00.071976Z",
     "shell.execute_reply.started": "2021-10-27T17:19:29.72171Z"
    },
    "papermill": {
     "duration": 0.067771,
     "end_time": "2021-10-27T18:24:00.073216",
     "exception": false,
     "start_time": "2021-10-27T18:24:00.005445",
     "status": "completed"
    },
    "tags": []
   },
   "outputs": [
    {
     "name": "stdout",
     "output_type": "stream",
     "text": [
      "          FareBand  Survived\n",
      "0   (-0.001, 7.91]  0.197309\n",
      "1   (7.91, 14.454]  0.303571\n",
      "2   (14.454, 31.0]  0.454955\n",
      "3  (31.0, 512.329]  0.581081\n"
     ]
    }
   ],
   "source": [
    "for dataset in data:\n",
    "    dataset['Fare'] = dataset['Fare'].fillna(train_data['Fare'].median())\n",
    "train_data['FareBand'] = pd.qcut(train_data['Fare'], 4) #Divide into equal groups of 25%, 50%, 75%\n",
    "\n",
    "print (train_data[['FareBand', 'Survived']].groupby(['FareBand'], as_index=False).mean())"
   ]
  },
  {
   "cell_type": "code",
   "execution_count": 41,
   "id": "3fe04721",
   "metadata": {
    "execution": {
     "iopub.execute_input": "2021-10-27T18:24:00.190345Z",
     "iopub.status.busy": "2021-10-27T18:24:00.189365Z",
     "iopub.status.idle": "2021-10-27T18:24:00.203238Z",
     "shell.execute_reply": "2021-10-27T18:24:00.204314Z",
     "shell.execute_reply.started": "2021-10-27T17:19:29.740371Z"
    },
    "papermill": {
     "duration": 0.082632,
     "end_time": "2021-10-27T18:24:00.204488",
     "exception": false,
     "start_time": "2021-10-27T18:24:00.121856",
     "status": "completed"
    },
    "tags": []
   },
   "outputs": [
    {
     "data": {
      "text/html": [
       "<div>\n",
       "<style scoped>\n",
       "    .dataframe tbody tr th:only-of-type {\n",
       "        vertical-align: middle;\n",
       "    }\n",
       "\n",
       "    .dataframe tbody tr th {\n",
       "        vertical-align: top;\n",
       "    }\n",
       "\n",
       "    .dataframe thead th {\n",
       "        text-align: right;\n",
       "    }\n",
       "</style>\n",
       "<table border=\"1\" class=\"dataframe\">\n",
       "  <thead>\n",
       "    <tr style=\"text-align: right;\">\n",
       "      <th></th>\n",
       "      <th>PassengerId</th>\n",
       "      <th>Survived</th>\n",
       "      <th>Pclass</th>\n",
       "      <th>Name</th>\n",
       "      <th>Sex</th>\n",
       "      <th>Age</th>\n",
       "      <th>SibSp</th>\n",
       "      <th>Parch</th>\n",
       "      <th>Ticket</th>\n",
       "      <th>Fare</th>\n",
       "      <th>...</th>\n",
       "      <th>Title</th>\n",
       "      <th>IsAlone</th>\n",
       "      <th>S</th>\n",
       "      <th>C</th>\n",
       "      <th>Q</th>\n",
       "      <th>First_Class</th>\n",
       "      <th>Second_Class</th>\n",
       "      <th>Third_Class</th>\n",
       "      <th>AgeBand</th>\n",
       "      <th>FareBand</th>\n",
       "    </tr>\n",
       "  </thead>\n",
       "  <tbody>\n",
       "    <tr>\n",
       "      <th>0</th>\n",
       "      <td>1</td>\n",
       "      <td>0</td>\n",
       "      <td>3</td>\n",
       "      <td>Braund, Mr. Owen Harris</td>\n",
       "      <td>1</td>\n",
       "      <td>1</td>\n",
       "      <td>1</td>\n",
       "      <td>0</td>\n",
       "      <td>A/5 21171</td>\n",
       "      <td>1.0</td>\n",
       "      <td>...</td>\n",
       "      <td>1</td>\n",
       "      <td>0</td>\n",
       "      <td>1</td>\n",
       "      <td>0</td>\n",
       "      <td>0</td>\n",
       "      <td>0</td>\n",
       "      <td>0</td>\n",
       "      <td>1</td>\n",
       "      <td>(16.0, 32.0]</td>\n",
       "      <td>(-0.001, 7.91]</td>\n",
       "    </tr>\n",
       "    <tr>\n",
       "      <th>1</th>\n",
       "      <td>2</td>\n",
       "      <td>1</td>\n",
       "      <td>1</td>\n",
       "      <td>Cumings, Mrs. John Bradley (Florence Briggs Th...</td>\n",
       "      <td>0</td>\n",
       "      <td>2</td>\n",
       "      <td>1</td>\n",
       "      <td>0</td>\n",
       "      <td>PC 17599</td>\n",
       "      <td>3.0</td>\n",
       "      <td>...</td>\n",
       "      <td>2</td>\n",
       "      <td>0</td>\n",
       "      <td>0</td>\n",
       "      <td>1</td>\n",
       "      <td>0</td>\n",
       "      <td>1</td>\n",
       "      <td>0</td>\n",
       "      <td>0</td>\n",
       "      <td>(32.0, 48.0]</td>\n",
       "      <td>(31.0, 512.329]</td>\n",
       "    </tr>\n",
       "    <tr>\n",
       "      <th>2</th>\n",
       "      <td>3</td>\n",
       "      <td>1</td>\n",
       "      <td>3</td>\n",
       "      <td>Heikkinen, Miss. Laina</td>\n",
       "      <td>0</td>\n",
       "      <td>1</td>\n",
       "      <td>0</td>\n",
       "      <td>0</td>\n",
       "      <td>STON/O2. 3101282</td>\n",
       "      <td>1.0</td>\n",
       "      <td>...</td>\n",
       "      <td>0</td>\n",
       "      <td>1</td>\n",
       "      <td>1</td>\n",
       "      <td>0</td>\n",
       "      <td>0</td>\n",
       "      <td>0</td>\n",
       "      <td>0</td>\n",
       "      <td>1</td>\n",
       "      <td>(16.0, 32.0]</td>\n",
       "      <td>(7.91, 14.454]</td>\n",
       "    </tr>\n",
       "    <tr>\n",
       "      <th>3</th>\n",
       "      <td>4</td>\n",
       "      <td>1</td>\n",
       "      <td>1</td>\n",
       "      <td>Futrelle, Mrs. Jacques Heath (Lily May Peel)</td>\n",
       "      <td>0</td>\n",
       "      <td>2</td>\n",
       "      <td>1</td>\n",
       "      <td>0</td>\n",
       "      <td>113803</td>\n",
       "      <td>3.0</td>\n",
       "      <td>...</td>\n",
       "      <td>2</td>\n",
       "      <td>0</td>\n",
       "      <td>1</td>\n",
       "      <td>0</td>\n",
       "      <td>0</td>\n",
       "      <td>1</td>\n",
       "      <td>0</td>\n",
       "      <td>0</td>\n",
       "      <td>(32.0, 48.0]</td>\n",
       "      <td>(31.0, 512.329]</td>\n",
       "    </tr>\n",
       "    <tr>\n",
       "      <th>4</th>\n",
       "      <td>5</td>\n",
       "      <td>0</td>\n",
       "      <td>3</td>\n",
       "      <td>Allen, Mr. William Henry</td>\n",
       "      <td>1</td>\n",
       "      <td>2</td>\n",
       "      <td>0</td>\n",
       "      <td>0</td>\n",
       "      <td>373450</td>\n",
       "      <td>1.0</td>\n",
       "      <td>...</td>\n",
       "      <td>1</td>\n",
       "      <td>1</td>\n",
       "      <td>1</td>\n",
       "      <td>0</td>\n",
       "      <td>0</td>\n",
       "      <td>0</td>\n",
       "      <td>0</td>\n",
       "      <td>1</td>\n",
       "      <td>(32.0, 48.0]</td>\n",
       "      <td>(7.91, 14.454]</td>\n",
       "    </tr>\n",
       "  </tbody>\n",
       "</table>\n",
       "<p>5 rows × 23 columns</p>\n",
       "</div>"
      ],
      "text/plain": [
       "   PassengerId  Survived  Pclass  \\\n",
       "0            1         0       3   \n",
       "1            2         1       1   \n",
       "2            3         1       3   \n",
       "3            4         1       1   \n",
       "4            5         0       3   \n",
       "\n",
       "                                                Name  Sex  Age  SibSp  Parch  \\\n",
       "0                            Braund, Mr. Owen Harris    1    1      1      0   \n",
       "1  Cumings, Mrs. John Bradley (Florence Briggs Th...    0    2      1      0   \n",
       "2                             Heikkinen, Miss. Laina    0    1      0      0   \n",
       "3       Futrelle, Mrs. Jacques Heath (Lily May Peel)    0    2      1      0   \n",
       "4                           Allen, Mr. William Henry    1    2      0      0   \n",
       "\n",
       "             Ticket  Fare  ... Title  IsAlone  S  C  Q  First_Class  \\\n",
       "0         A/5 21171   1.0  ...     1        0  1  0  0            0   \n",
       "1          PC 17599   3.0  ...     2        0  0  1  0            1   \n",
       "2  STON/O2. 3101282   1.0  ...     0        1  1  0  0            0   \n",
       "3            113803   3.0  ...     2        0  1  0  0            1   \n",
       "4            373450   1.0  ...     1        1  1  0  0            0   \n",
       "\n",
       "   Second_Class  Third_Class       AgeBand         FareBand  \n",
       "0             0            1  (16.0, 32.0]   (-0.001, 7.91]  \n",
       "1             0            0  (32.0, 48.0]  (31.0, 512.329]  \n",
       "2             0            1  (16.0, 32.0]   (7.91, 14.454]  \n",
       "3             0            0  (32.0, 48.0]  (31.0, 512.329]  \n",
       "4             0            1  (32.0, 48.0]   (7.91, 14.454]  \n",
       "\n",
       "[5 rows x 23 columns]"
      ]
     },
     "execution_count": 41,
     "metadata": {},
     "output_type": "execute_result"
    }
   ],
   "source": [
    "#Coding the fage\n",
    "for dataset in data:\n",
    "    dataset.loc[ dataset['Fare'] <= 7, 'Fare'] = 0\n",
    "    dataset.loc[(dataset['Fare'] > 7) & (dataset['Fare'] <= 14), 'Fare'] = 1\n",
    "    dataset.loc[(dataset['Fare'] > 14) & (dataset['Fare'] <= 31), 'Fare'] = 2\n",
    "    dataset.loc[ dataset['Fare'] > 31, 'Fare'] = 3\n",
    "    \n",
    "train_data.head()"
   ]
  },
  {
   "cell_type": "code",
   "execution_count": 42,
   "id": "3bfd21eb",
   "metadata": {
    "execution": {
     "iopub.execute_input": "2021-10-27T18:24:00.311345Z",
     "iopub.status.busy": "2021-10-27T18:24:00.310334Z",
     "iopub.status.idle": "2021-10-27T18:24:00.334440Z",
     "shell.execute_reply": "2021-10-27T18:24:00.333843Z",
     "shell.execute_reply.started": "2021-10-27T17:34:36.084031Z"
    },
    "papermill": {
     "duration": 0.081689,
     "end_time": "2021-10-27T18:24:00.334582",
     "exception": false,
     "start_time": "2021-10-27T18:24:00.252893",
     "status": "completed"
    },
    "tags": []
   },
   "outputs": [
    {
     "data": {
      "text/html": [
       "<div>\n",
       "<style scoped>\n",
       "    .dataframe tbody tr th:only-of-type {\n",
       "        vertical-align: middle;\n",
       "    }\n",
       "\n",
       "    .dataframe tbody tr th {\n",
       "        vertical-align: top;\n",
       "    }\n",
       "\n",
       "    .dataframe thead th {\n",
       "        text-align: right;\n",
       "    }\n",
       "</style>\n",
       "<table border=\"1\" class=\"dataframe\">\n",
       "  <thead>\n",
       "    <tr style=\"text-align: right;\">\n",
       "      <th></th>\n",
       "      <th>PassengerId</th>\n",
       "      <th>Survived</th>\n",
       "      <th>Pclass</th>\n",
       "      <th>Name</th>\n",
       "      <th>Sex</th>\n",
       "      <th>Age</th>\n",
       "      <th>SibSp</th>\n",
       "      <th>Parch</th>\n",
       "      <th>Ticket</th>\n",
       "      <th>Fare</th>\n",
       "      <th>...</th>\n",
       "      <th>Q</th>\n",
       "      <th>First_Class</th>\n",
       "      <th>Second_Class</th>\n",
       "      <th>Third_Class</th>\n",
       "      <th>AgeBand</th>\n",
       "      <th>FareBand</th>\n",
       "      <th>F1</th>\n",
       "      <th>F2</th>\n",
       "      <th>F3</th>\n",
       "      <th>F4</th>\n",
       "    </tr>\n",
       "  </thead>\n",
       "  <tbody>\n",
       "    <tr>\n",
       "      <th>0</th>\n",
       "      <td>1</td>\n",
       "      <td>0</td>\n",
       "      <td>3</td>\n",
       "      <td>Braund, Mr. Owen Harris</td>\n",
       "      <td>1</td>\n",
       "      <td>1</td>\n",
       "      <td>1</td>\n",
       "      <td>0</td>\n",
       "      <td>A/5 21171</td>\n",
       "      <td>1.0</td>\n",
       "      <td>...</td>\n",
       "      <td>0</td>\n",
       "      <td>0</td>\n",
       "      <td>0</td>\n",
       "      <td>1</td>\n",
       "      <td>(16.0, 32.0]</td>\n",
       "      <td>(-0.001, 7.91]</td>\n",
       "      <td>0</td>\n",
       "      <td>1</td>\n",
       "      <td>0</td>\n",
       "      <td>0</td>\n",
       "    </tr>\n",
       "    <tr>\n",
       "      <th>1</th>\n",
       "      <td>2</td>\n",
       "      <td>1</td>\n",
       "      <td>1</td>\n",
       "      <td>Cumings, Mrs. John Bradley (Florence Briggs Th...</td>\n",
       "      <td>0</td>\n",
       "      <td>2</td>\n",
       "      <td>1</td>\n",
       "      <td>0</td>\n",
       "      <td>PC 17599</td>\n",
       "      <td>3.0</td>\n",
       "      <td>...</td>\n",
       "      <td>0</td>\n",
       "      <td>1</td>\n",
       "      <td>0</td>\n",
       "      <td>0</td>\n",
       "      <td>(32.0, 48.0]</td>\n",
       "      <td>(31.0, 512.329]</td>\n",
       "      <td>0</td>\n",
       "      <td>0</td>\n",
       "      <td>0</td>\n",
       "      <td>1</td>\n",
       "    </tr>\n",
       "  </tbody>\n",
       "</table>\n",
       "<p>2 rows × 27 columns</p>\n",
       "</div>"
      ],
      "text/plain": [
       "   PassengerId  Survived  Pclass  \\\n",
       "0            1         0       3   \n",
       "1            2         1       1   \n",
       "\n",
       "                                                Name  Sex  Age  SibSp  Parch  \\\n",
       "0                            Braund, Mr. Owen Harris    1    1      1      0   \n",
       "1  Cumings, Mrs. John Bradley (Florence Briggs Th...    0    2      1      0   \n",
       "\n",
       "      Ticket  Fare  ...  Q  First_Class  Second_Class  Third_Class  \\\n",
       "0  A/5 21171   1.0  ...  0            0             0            1   \n",
       "1   PC 17599   3.0  ...  0            1             0            0   \n",
       "\n",
       "        AgeBand         FareBand  F1  F2  F3  F4  \n",
       "0  (16.0, 32.0]   (-0.001, 7.91]   0   1   0   0  \n",
       "1  (32.0, 48.0]  (31.0, 512.329]   0   0   0   1  \n",
       "\n",
       "[2 rows x 27 columns]"
      ]
     },
     "execution_count": 42,
     "metadata": {},
     "output_type": "execute_result"
    }
   ],
   "source": [
    "for dataset in data:\n",
    "    dataset['F1'] = 0\n",
    "    dataset['F2'] = 0\n",
    "    dataset['F3'] = 0\n",
    "    dataset['F4'] = 0    \n",
    "    dataset.loc[dataset['Fare'] == 0, 'F1'] = 1\n",
    "    dataset.loc[dataset['Fare'] == 1, 'F2'] = 1\n",
    "    dataset.loc[dataset['Fare'] == 2, 'F3'] = 1\n",
    "    dataset.loc[dataset['Fare'] == 3, 'F4'] = 1    \n",
    "train_data.head(2)  "
   ]
  },
  {
   "cell_type": "code",
   "execution_count": 43,
   "id": "79ee4f23",
   "metadata": {
    "execution": {
     "iopub.execute_input": "2021-10-27T18:24:00.437760Z",
     "iopub.status.busy": "2021-10-27T18:24:00.435239Z",
     "iopub.status.idle": "2021-10-27T18:24:00.452549Z",
     "shell.execute_reply": "2021-10-27T18:24:00.451992Z",
     "shell.execute_reply.started": "2021-10-27T17:35:12.063299Z"
    },
    "papermill": {
     "duration": 0.070237,
     "end_time": "2021-10-27T18:24:00.452695",
     "exception": false,
     "start_time": "2021-10-27T18:24:00.382458",
     "status": "completed"
    },
    "tags": []
   },
   "outputs": [
    {
     "data": {
      "text/html": [
       "<div>\n",
       "<style scoped>\n",
       "    .dataframe tbody tr th:only-of-type {\n",
       "        vertical-align: middle;\n",
       "    }\n",
       "\n",
       "    .dataframe tbody tr th {\n",
       "        vertical-align: top;\n",
       "    }\n",
       "\n",
       "    .dataframe thead th {\n",
       "        text-align: right;\n",
       "    }\n",
       "</style>\n",
       "<table border=\"1\" class=\"dataframe\">\n",
       "  <thead>\n",
       "    <tr style=\"text-align: right;\">\n",
       "      <th></th>\n",
       "      <th>PassengerId</th>\n",
       "      <th>Pclass</th>\n",
       "      <th>Name</th>\n",
       "      <th>Sex</th>\n",
       "      <th>Age</th>\n",
       "      <th>SibSp</th>\n",
       "      <th>Parch</th>\n",
       "      <th>Ticket</th>\n",
       "      <th>Fare</th>\n",
       "      <th>Cabin</th>\n",
       "      <th>...</th>\n",
       "      <th>S</th>\n",
       "      <th>C</th>\n",
       "      <th>Q</th>\n",
       "      <th>First_Class</th>\n",
       "      <th>Second_Class</th>\n",
       "      <th>Third_Class</th>\n",
       "      <th>F1</th>\n",
       "      <th>F2</th>\n",
       "      <th>F3</th>\n",
       "      <th>F4</th>\n",
       "    </tr>\n",
       "  </thead>\n",
       "  <tbody>\n",
       "    <tr>\n",
       "      <th>0</th>\n",
       "      <td>892</td>\n",
       "      <td>3</td>\n",
       "      <td>Kelly, Mr. James</td>\n",
       "      <td>1</td>\n",
       "      <td>2</td>\n",
       "      <td>0</td>\n",
       "      <td>0</td>\n",
       "      <td>330911</td>\n",
       "      <td>1.0</td>\n",
       "      <td>NaN</td>\n",
       "      <td>...</td>\n",
       "      <td>0</td>\n",
       "      <td>0</td>\n",
       "      <td>1</td>\n",
       "      <td>0</td>\n",
       "      <td>0</td>\n",
       "      <td>1</td>\n",
       "      <td>0</td>\n",
       "      <td>1</td>\n",
       "      <td>0</td>\n",
       "      <td>0</td>\n",
       "    </tr>\n",
       "    <tr>\n",
       "      <th>1</th>\n",
       "      <td>893</td>\n",
       "      <td>3</td>\n",
       "      <td>Wilkes, Mrs. James (Ellen Needs)</td>\n",
       "      <td>0</td>\n",
       "      <td>2</td>\n",
       "      <td>1</td>\n",
       "      <td>0</td>\n",
       "      <td>363272</td>\n",
       "      <td>0.0</td>\n",
       "      <td>NaN</td>\n",
       "      <td>...</td>\n",
       "      <td>1</td>\n",
       "      <td>0</td>\n",
       "      <td>0</td>\n",
       "      <td>0</td>\n",
       "      <td>0</td>\n",
       "      <td>1</td>\n",
       "      <td>1</td>\n",
       "      <td>0</td>\n",
       "      <td>0</td>\n",
       "      <td>0</td>\n",
       "    </tr>\n",
       "  </tbody>\n",
       "</table>\n",
       "<p>2 rows × 24 columns</p>\n",
       "</div>"
      ],
      "text/plain": [
       "   PassengerId  Pclass                              Name  Sex  Age  SibSp  \\\n",
       "0          892       3                  Kelly, Mr. James    1    2      0   \n",
       "1          893       3  Wilkes, Mrs. James (Ellen Needs)    0    2      1   \n",
       "\n",
       "   Parch  Ticket  Fare Cabin  ...  S  C  Q  First_Class  Second_Class  \\\n",
       "0      0  330911   1.0   NaN  ...  0  0  1            0             0   \n",
       "1      0  363272   0.0   NaN  ...  1  0  0            0             0   \n",
       "\n",
       "   Third_Class  F1  F2  F3  F4  \n",
       "0            1   0   1   0   0  \n",
       "1            1   1   0   0   0  \n",
       "\n",
       "[2 rows x 24 columns]"
      ]
     },
     "execution_count": 43,
     "metadata": {},
     "output_type": "execute_result"
    }
   ],
   "source": [
    "test_data.head(2)"
   ]
  },
  {
   "cell_type": "code",
   "execution_count": 44,
   "id": "f03a4f8e",
   "metadata": {
    "execution": {
     "iopub.execute_input": "2021-10-27T18:24:00.559392Z",
     "iopub.status.busy": "2021-10-27T18:24:00.557716Z",
     "iopub.status.idle": "2021-10-27T18:24:00.562668Z",
     "shell.execute_reply": "2021-10-27T18:24:00.562016Z",
     "shell.execute_reply.started": "2021-10-27T17:35:14.802427Z"
    },
    "papermill": {
     "duration": 0.061236,
     "end_time": "2021-10-27T18:24:00.562802",
     "exception": false,
     "start_time": "2021-10-27T18:24:00.501566",
     "status": "completed"
    },
    "tags": []
   },
   "outputs": [],
   "source": [
    "#Deleting unnecessary data\n",
    "features_drop = ['Name', 'SibSp', 'Parch', 'Ticket','Cabin','Pclass','Embarked','Fare']\n",
    "train = train_data.drop(features_drop, axis=1)\n",
    "test = test_data.drop(features_drop, axis=1)\n",
    "train = train_data.drop(['PassengerId', 'AgeBand','Name', 'SibSp', 'Parch', 'Ticket','FareBand','Cabin','Pclass','Embarked','Fare'], axis=1)"
   ]
  },
  {
   "cell_type": "code",
   "execution_count": 45,
   "id": "87a53ea1",
   "metadata": {
    "execution": {
     "iopub.execute_input": "2021-10-27T18:24:00.674529Z",
     "iopub.status.busy": "2021-10-27T18:24:00.673825Z",
     "iopub.status.idle": "2021-10-27T18:24:00.677201Z",
     "shell.execute_reply": "2021-10-27T18:24:00.676683Z",
     "shell.execute_reply.started": "2021-10-27T17:35:17.33612Z"
    },
    "papermill": {
     "duration": 0.063218,
     "end_time": "2021-10-27T18:24:00.677339",
     "exception": false,
     "start_time": "2021-10-27T18:24:00.614121",
     "status": "completed"
    },
    "tags": []
   },
   "outputs": [
    {
     "data": {
      "text/html": [
       "<div>\n",
       "<style scoped>\n",
       "    .dataframe tbody tr th:only-of-type {\n",
       "        vertical-align: middle;\n",
       "    }\n",
       "\n",
       "    .dataframe tbody tr th {\n",
       "        vertical-align: top;\n",
       "    }\n",
       "\n",
       "    .dataframe thead th {\n",
       "        text-align: right;\n",
       "    }\n",
       "</style>\n",
       "<table border=\"1\" class=\"dataframe\">\n",
       "  <thead>\n",
       "    <tr style=\"text-align: right;\">\n",
       "      <th></th>\n",
       "      <th>PassengerId</th>\n",
       "      <th>Sex</th>\n",
       "      <th>Age</th>\n",
       "      <th>FamilySize</th>\n",
       "      <th>Title</th>\n",
       "      <th>IsAlone</th>\n",
       "      <th>S</th>\n",
       "      <th>C</th>\n",
       "      <th>Q</th>\n",
       "      <th>First_Class</th>\n",
       "      <th>Second_Class</th>\n",
       "      <th>Third_Class</th>\n",
       "      <th>F1</th>\n",
       "      <th>F2</th>\n",
       "      <th>F3</th>\n",
       "      <th>F4</th>\n",
       "    </tr>\n",
       "  </thead>\n",
       "  <tbody>\n",
       "    <tr>\n",
       "      <th>0</th>\n",
       "      <td>892</td>\n",
       "      <td>1</td>\n",
       "      <td>2</td>\n",
       "      <td>1</td>\n",
       "      <td>1</td>\n",
       "      <td>1</td>\n",
       "      <td>0</td>\n",
       "      <td>0</td>\n",
       "      <td>1</td>\n",
       "      <td>0</td>\n",
       "      <td>0</td>\n",
       "      <td>1</td>\n",
       "      <td>0</td>\n",
       "      <td>1</td>\n",
       "      <td>0</td>\n",
       "      <td>0</td>\n",
       "    </tr>\n",
       "    <tr>\n",
       "      <th>1</th>\n",
       "      <td>893</td>\n",
       "      <td>0</td>\n",
       "      <td>2</td>\n",
       "      <td>2</td>\n",
       "      <td>2</td>\n",
       "      <td>0</td>\n",
       "      <td>1</td>\n",
       "      <td>0</td>\n",
       "      <td>0</td>\n",
       "      <td>0</td>\n",
       "      <td>0</td>\n",
       "      <td>1</td>\n",
       "      <td>1</td>\n",
       "      <td>0</td>\n",
       "      <td>0</td>\n",
       "      <td>0</td>\n",
       "    </tr>\n",
       "    <tr>\n",
       "      <th>2</th>\n",
       "      <td>894</td>\n",
       "      <td>1</td>\n",
       "      <td>3</td>\n",
       "      <td>1</td>\n",
       "      <td>1</td>\n",
       "      <td>1</td>\n",
       "      <td>0</td>\n",
       "      <td>0</td>\n",
       "      <td>1</td>\n",
       "      <td>0</td>\n",
       "      <td>1</td>\n",
       "      <td>0</td>\n",
       "      <td>0</td>\n",
       "      <td>1</td>\n",
       "      <td>0</td>\n",
       "      <td>0</td>\n",
       "    </tr>\n",
       "  </tbody>\n",
       "</table>\n",
       "</div>"
      ],
      "text/plain": [
       "   PassengerId  Sex  Age  FamilySize  Title  IsAlone  S  C  Q  First_Class  \\\n",
       "0          892    1    2           1      1        1  0  0  1            0   \n",
       "1          893    0    2           2      2        0  1  0  0            0   \n",
       "2          894    1    3           1      1        1  0  0  1            0   \n",
       "\n",
       "   Second_Class  Third_Class  F1  F2  F3  F4  \n",
       "0             0            1   0   1   0   0  \n",
       "1             0            1   1   0   0   0  \n",
       "2             1            0   0   1   0   0  "
      ]
     },
     "execution_count": 45,
     "metadata": {},
     "output_type": "execute_result"
    }
   ],
   "source": [
    "test.head(3)"
   ]
  },
  {
   "cell_type": "code",
   "execution_count": 46,
   "id": "62bbbe4f",
   "metadata": {
    "execution": {
     "iopub.execute_input": "2021-10-27T18:24:00.778011Z",
     "iopub.status.busy": "2021-10-27T18:24:00.777468Z",
     "iopub.status.idle": "2021-10-27T18:24:00.787892Z",
     "shell.execute_reply": "2021-10-27T18:24:00.788439Z",
     "shell.execute_reply.started": "2021-10-27T17:35:19.414807Z"
    },
    "papermill": {
     "duration": 0.062245,
     "end_time": "2021-10-27T18:24:00.788594",
     "exception": false,
     "start_time": "2021-10-27T18:24:00.726349",
     "status": "completed"
    },
    "tags": []
   },
   "outputs": [
    {
     "data": {
      "text/html": [
       "<div>\n",
       "<style scoped>\n",
       "    .dataframe tbody tr th:only-of-type {\n",
       "        vertical-align: middle;\n",
       "    }\n",
       "\n",
       "    .dataframe tbody tr th {\n",
       "        vertical-align: top;\n",
       "    }\n",
       "\n",
       "    .dataframe thead th {\n",
       "        text-align: right;\n",
       "    }\n",
       "</style>\n",
       "<table border=\"1\" class=\"dataframe\">\n",
       "  <thead>\n",
       "    <tr style=\"text-align: right;\">\n",
       "      <th></th>\n",
       "      <th>Survived</th>\n",
       "      <th>Sex</th>\n",
       "      <th>Age</th>\n",
       "      <th>FamilySize</th>\n",
       "      <th>Title</th>\n",
       "      <th>IsAlone</th>\n",
       "      <th>S</th>\n",
       "      <th>C</th>\n",
       "      <th>Q</th>\n",
       "      <th>First_Class</th>\n",
       "      <th>Second_Class</th>\n",
       "      <th>Third_Class</th>\n",
       "      <th>F1</th>\n",
       "      <th>F2</th>\n",
       "      <th>F3</th>\n",
       "      <th>F4</th>\n",
       "    </tr>\n",
       "  </thead>\n",
       "  <tbody>\n",
       "    <tr>\n",
       "      <th>0</th>\n",
       "      <td>0</td>\n",
       "      <td>1</td>\n",
       "      <td>1</td>\n",
       "      <td>2</td>\n",
       "      <td>1</td>\n",
       "      <td>0</td>\n",
       "      <td>1</td>\n",
       "      <td>0</td>\n",
       "      <td>0</td>\n",
       "      <td>0</td>\n",
       "      <td>0</td>\n",
       "      <td>1</td>\n",
       "      <td>0</td>\n",
       "      <td>1</td>\n",
       "      <td>0</td>\n",
       "      <td>0</td>\n",
       "    </tr>\n",
       "    <tr>\n",
       "      <th>1</th>\n",
       "      <td>1</td>\n",
       "      <td>0</td>\n",
       "      <td>2</td>\n",
       "      <td>2</td>\n",
       "      <td>2</td>\n",
       "      <td>0</td>\n",
       "      <td>0</td>\n",
       "      <td>1</td>\n",
       "      <td>0</td>\n",
       "      <td>1</td>\n",
       "      <td>0</td>\n",
       "      <td>0</td>\n",
       "      <td>0</td>\n",
       "      <td>0</td>\n",
       "      <td>0</td>\n",
       "      <td>1</td>\n",
       "    </tr>\n",
       "    <tr>\n",
       "      <th>2</th>\n",
       "      <td>1</td>\n",
       "      <td>0</td>\n",
       "      <td>1</td>\n",
       "      <td>1</td>\n",
       "      <td>0</td>\n",
       "      <td>1</td>\n",
       "      <td>1</td>\n",
       "      <td>0</td>\n",
       "      <td>0</td>\n",
       "      <td>0</td>\n",
       "      <td>0</td>\n",
       "      <td>1</td>\n",
       "      <td>0</td>\n",
       "      <td>1</td>\n",
       "      <td>0</td>\n",
       "      <td>0</td>\n",
       "    </tr>\n",
       "  </tbody>\n",
       "</table>\n",
       "</div>"
      ],
      "text/plain": [
       "   Survived  Sex  Age  FamilySize  Title  IsAlone  S  C  Q  First_Class  \\\n",
       "0         0    1    1           2      1        0  1  0  0            0   \n",
       "1         1    0    2           2      2        0  0  1  0            1   \n",
       "2         1    0    1           1      0        1  1  0  0            0   \n",
       "\n",
       "   Second_Class  Third_Class  F1  F2  F3  F4  \n",
       "0             0            1   0   1   0   0  \n",
       "1             0            0   0   0   0   1  \n",
       "2             0            1   0   1   0   0  "
      ]
     },
     "execution_count": 46,
     "metadata": {},
     "output_type": "execute_result"
    }
   ],
   "source": [
    "train.head(3)"
   ]
  },
  {
   "cell_type": "code",
   "execution_count": 47,
   "id": "b01dc721",
   "metadata": {
    "execution": {
     "iopub.execute_input": "2021-10-27T18:24:00.891457Z",
     "iopub.status.busy": "2021-10-27T18:24:00.890796Z",
     "iopub.status.idle": "2021-10-27T18:24:00.896014Z",
     "shell.execute_reply": "2021-10-27T18:24:00.896542Z",
     "shell.execute_reply.started": "2021-10-27T17:35:21.554912Z"
    },
    "papermill": {
     "duration": 0.057771,
     "end_time": "2021-10-27T18:24:00.896702",
     "exception": false,
     "start_time": "2021-10-27T18:24:00.838931",
     "status": "completed"
    },
    "tags": []
   },
   "outputs": [],
   "source": [
    "#X_train - train data \n",
    "#y_train - answer for train data\n",
    "#X_test - test data \n",
    "#y_test - we need to find it\n",
    "X_train = train.drop('Survived', axis=1)\n",
    "y_train = train['Survived']\n",
    "X_test = test.drop(\"PassengerId\", axis=1).copy()"
   ]
  },
  {
   "cell_type": "code",
   "execution_count": 48,
   "id": "312be37e",
   "metadata": {
    "execution": {
     "iopub.execute_input": "2021-10-27T18:24:00.998647Z",
     "iopub.status.busy": "2021-10-27T18:24:00.997955Z",
     "iopub.status.idle": "2021-10-27T18:24:01.210661Z",
     "shell.execute_reply": "2021-10-27T18:24:01.210156Z",
     "shell.execute_reply.started": "2021-10-27T17:35:23.274432Z"
    },
    "papermill": {
     "duration": 0.264892,
     "end_time": "2021-10-27T18:24:01.210805",
     "exception": false,
     "start_time": "2021-10-27T18:24:00.945913",
     "status": "completed"
    },
    "tags": []
   },
   "outputs": [
    {
     "name": "stdout",
     "output_type": "stream",
     "text": [
      "88.66\n"
     ]
    }
   ],
   "source": [
    "clf = RandomForestClassifier(n_estimators=100)\n",
    "clf.fit(X_train, y_train)\n",
    "y_pred_random_forest = clf.predict(X_test)\n",
    "acc_random_forest = round(clf.score(X_train, y_train) * 100, 2)\n",
    "print (acc_random_forest)"
   ]
  },
  {
   "cell_type": "code",
   "execution_count": 49,
   "id": "7c7370aa",
   "metadata": {
    "execution": {
     "iopub.execute_input": "2021-10-27T18:24:01.320612Z",
     "iopub.status.busy": "2021-10-27T18:24:01.319876Z",
     "iopub.status.idle": "2021-10-27T18:24:01.752494Z",
     "shell.execute_reply": "2021-10-27T18:24:01.751713Z",
     "shell.execute_reply.started": "2021-10-27T17:35:25.486582Z"
    },
    "papermill": {
     "duration": 0.491091,
     "end_time": "2021-10-27T18:24:01.752638",
     "exception": false,
     "start_time": "2021-10-27T18:24:01.261547",
     "status": "completed"
    },
    "tags": []
   },
   "outputs": [
    {
     "name": "stdout",
     "output_type": "stream",
     "text": [
      "Accuracy: 88 % \n",
      "\n",
      "                   Predicted Survived  Predicted Not Survived\n",
      "True Survived                     506                      43\n",
      "True Not Survived                  58                     284\n"
     ]
    },
    {
     "data": {
      "text/plain": [
       "<AxesSubplot:>"
      ]
     },
     "execution_count": 49,
     "metadata": {},
     "output_type": "execute_result"
    },
    {
     "data": {
      "image/png": "[encoded data removed]",
      "text/plain": [
       "<Figure size 432x288 with 2 Axes>"
      ]
     },
     "metadata": {
      "needs_background": "light"
     },
     "output_type": "display_data"
    }
   ],
   "source": [
    "clf = RandomForestClassifier(n_estimators=100)\n",
    "clf.fit(X_train, y_train)\n",
    "y_pred_random_forest_training_set = clf.predict(X_train)\n",
    "acc_random_forest = round(clf.score(X_train, y_train) * 100, 2)\n",
    "print (\"Accuracy: %i %% \\n\"%acc_random_forest)\n",
    "\n",
    "class_names = ['Survived', 'Not Survived']\n",
    "\n",
    "# Compute confusion matrix\n",
    "cnf_matrix = confusion_matrix(y_train, y_pred_random_forest_training_set)\n",
    "\n",
    "true_class_names = ['True Survived', 'True Not Survived']\n",
    "predicted_class_names = ['Predicted Survived', 'Predicted Not Survived']\n",
    "\n",
    "df_cnf_matrix = pd.DataFrame(cnf_matrix, \n",
    "                             index = true_class_names,\n",
    "                             columns = predicted_class_names)\n",
    "print(df_cnf_matrix)\n",
    "\n",
    "\n",
    "sns.heatmap(df_cnf_matrix, annot=True, fmt='d')\n"
   ]
  },
  {
   "cell_type": "code",
   "execution_count": 50,
   "id": "0bd8e8e7",
   "metadata": {
    "execution": {
     "iopub.execute_input": "2021-10-27T18:24:01.865417Z",
     "iopub.status.busy": "2021-10-27T18:24:01.864478Z",
     "iopub.status.idle": "2021-10-27T18:24:01.869828Z",
     "shell.execute_reply": "2021-10-27T18:24:01.870453Z",
     "shell.execute_reply.started": "2021-10-27T17:35:30.390742Z"
    },
    "papermill": {
     "duration": 0.064398,
     "end_time": "2021-10-27T18:24:01.870630",
     "exception": false,
     "start_time": "2021-10-27T18:24:01.806232",
     "status": "completed"
    },
    "tags": []
   },
   "outputs": [],
   "source": [
    "submission = pd.DataFrame({\n",
    "        \"PassengerId\": test[\"PassengerId\"],\n",
    "        \"Survived\": y_pred_random_forest\n",
    "    })\n",
    "submission.to_csv('submission.csv', index=False)\n",
    "submission.Survived = submission.Survived.astype(int)"
   ]
  }
 ],
 "metadata": {
  "kernelspec": {
   "display_name": "Python 3",
   "language": "python",
   "name": "python3"
  },
  "language_info": {
   "codemirror_mode": {
    "name": "ipython",
    "version": 3
   },
   "file_extension": ".py",
   "mimetype": "text/x-python",
   "name": "python",
   "nbconvert_exporter": "python",
   "pygments_lexer": "ipython3",
   "version": "3.7.10"
  },
  "papermill": {
   "default_parameters": {},
   "duration": 19.639655,
   "end_time": "2021-10-27T18:24:02.631856",
   "environment_variables": {},
   "exception": null,
   "input_path": "__notebook__.ipynb",
   "output_path": "__notebook__.ipynb",
   "parameters": {},
   "start_time": "2021-10-27T18:23:42.992201",
   "version": "2.3.3"
  }
 },
 "nbformat": 4,
 "nbformat_minor": 5
}
